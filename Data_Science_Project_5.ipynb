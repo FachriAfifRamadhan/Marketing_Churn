{
  "cells": [
    {
      "cell_type": "code",
      "execution_count": 1,
      "metadata": {
        "id": "ftX0OQLheB3J"
      },
      "outputs": [],
      "source": [
        "import os\n",
        "import sys\n",
        "import pandas as pd\n",
        "import numpy as np\n",
        "import seaborn as sns"
      ]
    },
    {
      "cell_type": "code",
      "execution_count": 2,
      "metadata": {
        "colab": {
          "base_uri": "https://localhost:8080/"
        },
        "id": "8OzhVWBsj5_R",
        "outputId": "c5d1a275-92bc-4ef0-e177-b6613fd29d6a"
      },
      "outputs": [
        {
          "name": "stdout",
          "output_type": "stream",
          "text": [
            "Drive already mounted at /content/drive; to attempt to forcibly remount, call drive.mount(\"/content/drive\", force_remount=True).\n"
          ]
        }
      ],
      "source": [
        "from google.colab import drive\n",
        "drive.mount('/content/drive')"
      ]
    },
    {
      "cell_type": "code",
      "execution_count": 3,
      "metadata": {
        "id": "jdme29n9j-Sa"
      },
      "outputs": [],
      "source": [
        "import os\n",
        "files= '/content/drive/MyDrive/DataScience'\n",
        "os.chdir(files)"
      ]
    },
    {
      "cell_type": "code",
      "execution_count": 4,
      "metadata": {
        "colab": {
          "base_uri": "https://localhost:8080/",
          "height": 300
        },
        "id": "ysifljwYlm8y",
        "outputId": "1aa8ba63-73a2-419b-d2de-54e08dd7ba50"
      },
      "outputs": [
        {
          "data": {
            "text/html": [
              "\n",
              "  <div id=\"df-18308291-9de6-459b-8aed-3c79d524942a\">\n",
              "    <div class=\"colab-df-container\">\n",
              "      <div>\n",
              "<style scoped>\n",
              "    .dataframe tbody tr th:only-of-type {\n",
              "        vertical-align: middle;\n",
              "    }\n",
              "\n",
              "    .dataframe tbody tr th {\n",
              "        vertical-align: top;\n",
              "    }\n",
              "\n",
              "    .dataframe thead th {\n",
              "        text-align: right;\n",
              "    }\n",
              "</style>\n",
              "<table border=\"1\" class=\"dataframe\">\n",
              "  <thead>\n",
              "    <tr style=\"text-align: right;\">\n",
              "      <th></th>\n",
              "      <th>ID</th>\n",
              "      <th>Year_Birth</th>\n",
              "      <th>Education</th>\n",
              "      <th>Marital_Status</th>\n",
              "      <th>Income</th>\n",
              "      <th>Kidhome</th>\n",
              "      <th>Teenhome</th>\n",
              "      <th>Dt_Customer</th>\n",
              "      <th>Recency</th>\n",
              "      <th>MntWines</th>\n",
              "      <th>...</th>\n",
              "      <th>NumStorePurchases</th>\n",
              "      <th>NumWebVisitsMonth</th>\n",
              "      <th>AcceptedCmp3</th>\n",
              "      <th>AcceptedCmp4</th>\n",
              "      <th>AcceptedCmp5</th>\n",
              "      <th>AcceptedCmp1</th>\n",
              "      <th>AcceptedCmp2</th>\n",
              "      <th>Response</th>\n",
              "      <th>Complain</th>\n",
              "      <th>Country</th>\n",
              "    </tr>\n",
              "  </thead>\n",
              "  <tbody>\n",
              "    <tr>\n",
              "      <th>0</th>\n",
              "      <td>1826</td>\n",
              "      <td>1970</td>\n",
              "      <td>Graduation</td>\n",
              "      <td>Divorced</td>\n",
              "      <td>$84,835.00</td>\n",
              "      <td>0</td>\n",
              "      <td>0</td>\n",
              "      <td>6/16/14</td>\n",
              "      <td>0</td>\n",
              "      <td>189</td>\n",
              "      <td>...</td>\n",
              "      <td>6</td>\n",
              "      <td>1</td>\n",
              "      <td>0</td>\n",
              "      <td>0</td>\n",
              "      <td>0</td>\n",
              "      <td>0</td>\n",
              "      <td>0</td>\n",
              "      <td>1</td>\n",
              "      <td>0</td>\n",
              "      <td>SP</td>\n",
              "    </tr>\n",
              "    <tr>\n",
              "      <th>1</th>\n",
              "      <td>1</td>\n",
              "      <td>1961</td>\n",
              "      <td>Graduation</td>\n",
              "      <td>Single</td>\n",
              "      <td>$57,091.00</td>\n",
              "      <td>0</td>\n",
              "      <td>0</td>\n",
              "      <td>6/15/14</td>\n",
              "      <td>0</td>\n",
              "      <td>464</td>\n",
              "      <td>...</td>\n",
              "      <td>7</td>\n",
              "      <td>5</td>\n",
              "      <td>0</td>\n",
              "      <td>0</td>\n",
              "      <td>0</td>\n",
              "      <td>0</td>\n",
              "      <td>1</td>\n",
              "      <td>1</td>\n",
              "      <td>0</td>\n",
              "      <td>CA</td>\n",
              "    </tr>\n",
              "    <tr>\n",
              "      <th>2</th>\n",
              "      <td>10476</td>\n",
              "      <td>1958</td>\n",
              "      <td>Graduation</td>\n",
              "      <td>Married</td>\n",
              "      <td>$67,267.00</td>\n",
              "      <td>0</td>\n",
              "      <td>1</td>\n",
              "      <td>5/13/14</td>\n",
              "      <td>0</td>\n",
              "      <td>134</td>\n",
              "      <td>...</td>\n",
              "      <td>5</td>\n",
              "      <td>2</td>\n",
              "      <td>0</td>\n",
              "      <td>0</td>\n",
              "      <td>0</td>\n",
              "      <td>0</td>\n",
              "      <td>0</td>\n",
              "      <td>0</td>\n",
              "      <td>0</td>\n",
              "      <td>US</td>\n",
              "    </tr>\n",
              "    <tr>\n",
              "      <th>3</th>\n",
              "      <td>1386</td>\n",
              "      <td>1967</td>\n",
              "      <td>Graduation</td>\n",
              "      <td>Together</td>\n",
              "      <td>$32,474.00</td>\n",
              "      <td>1</td>\n",
              "      <td>1</td>\n",
              "      <td>5/11/14</td>\n",
              "      <td>0</td>\n",
              "      <td>10</td>\n",
              "      <td>...</td>\n",
              "      <td>2</td>\n",
              "      <td>7</td>\n",
              "      <td>0</td>\n",
              "      <td>0</td>\n",
              "      <td>0</td>\n",
              "      <td>0</td>\n",
              "      <td>0</td>\n",
              "      <td>0</td>\n",
              "      <td>0</td>\n",
              "      <td>AUS</td>\n",
              "    </tr>\n",
              "    <tr>\n",
              "      <th>4</th>\n",
              "      <td>5371</td>\n",
              "      <td>1989</td>\n",
              "      <td>Graduation</td>\n",
              "      <td>Single</td>\n",
              "      <td>$21,474.00</td>\n",
              "      <td>1</td>\n",
              "      <td>0</td>\n",
              "      <td>4/8/14</td>\n",
              "      <td>0</td>\n",
              "      <td>6</td>\n",
              "      <td>...</td>\n",
              "      <td>2</td>\n",
              "      <td>7</td>\n",
              "      <td>1</td>\n",
              "      <td>0</td>\n",
              "      <td>0</td>\n",
              "      <td>0</td>\n",
              "      <td>0</td>\n",
              "      <td>1</td>\n",
              "      <td>0</td>\n",
              "      <td>SP</td>\n",
              "    </tr>\n",
              "  </tbody>\n",
              "</table>\n",
              "<p>5 rows × 28 columns</p>\n",
              "</div>\n",
              "      <button class=\"colab-df-convert\" onclick=\"convertToInteractive('df-18308291-9de6-459b-8aed-3c79d524942a')\"\n",
              "              title=\"Convert this dataframe to an interactive table.\"\n",
              "              style=\"display:none;\">\n",
              "        \n",
              "  <svg xmlns=\"http://www.w3.org/2000/svg\" height=\"24px\"viewBox=\"0 0 24 24\"\n",
              "       width=\"24px\">\n",
              "    <path d=\"M0 0h24v24H0V0z\" fill=\"none\"/>\n",
              "    <path d=\"M18.56 5.44l.94 2.06.94-2.06 2.06-.94-2.06-.94-.94-2.06-.94 2.06-2.06.94zm-11 1L8.5 8.5l.94-2.06 2.06-.94-2.06-.94L8.5 2.5l-.94 2.06-2.06.94zm10 10l.94 2.06.94-2.06 2.06-.94-2.06-.94-.94-2.06-.94 2.06-2.06.94z\"/><path d=\"M17.41 7.96l-1.37-1.37c-.4-.4-.92-.59-1.43-.59-.52 0-1.04.2-1.43.59L10.3 9.45l-7.72 7.72c-.78.78-.78 2.05 0 2.83L4 21.41c.39.39.9.59 1.41.59.51 0 1.02-.2 1.41-.59l7.78-7.78 2.81-2.81c.8-.78.8-2.07 0-2.86zM5.41 20L4 18.59l7.72-7.72 1.47 1.35L5.41 20z\"/>\n",
              "  </svg>\n",
              "      </button>\n",
              "      \n",
              "  <style>\n",
              "    .colab-df-container {\n",
              "      display:flex;\n",
              "      flex-wrap:wrap;\n",
              "      gap: 12px;\n",
              "    }\n",
              "\n",
              "    .colab-df-convert {\n",
              "      background-color: #E8F0FE;\n",
              "      border: none;\n",
              "      border-radius: 50%;\n",
              "      cursor: pointer;\n",
              "      display: none;\n",
              "      fill: #1967D2;\n",
              "      height: 32px;\n",
              "      padding: 0 0 0 0;\n",
              "      width: 32px;\n",
              "    }\n",
              "\n",
              "    .colab-df-convert:hover {\n",
              "      background-color: #E2EBFA;\n",
              "      box-shadow: 0px 1px 2px rgba(60, 64, 67, 0.3), 0px 1px 3px 1px rgba(60, 64, 67, 0.15);\n",
              "      fill: #174EA6;\n",
              "    }\n",
              "\n",
              "    [theme=dark] .colab-df-convert {\n",
              "      background-color: #3B4455;\n",
              "      fill: #D2E3FC;\n",
              "    }\n",
              "\n",
              "    [theme=dark] .colab-df-convert:hover {\n",
              "      background-color: #434B5C;\n",
              "      box-shadow: 0px 1px 3px 1px rgba(0, 0, 0, 0.15);\n",
              "      filter: drop-shadow(0px 1px 2px rgba(0, 0, 0, 0.3));\n",
              "      fill: #FFFFFF;\n",
              "    }\n",
              "  </style>\n",
              "\n",
              "      <script>\n",
              "        const buttonEl =\n",
              "          document.querySelector('#df-18308291-9de6-459b-8aed-3c79d524942a button.colab-df-convert');\n",
              "        buttonEl.style.display =\n",
              "          google.colab.kernel.accessAllowed ? 'block' : 'none';\n",
              "\n",
              "        async function convertToInteractive(key) {\n",
              "          const element = document.querySelector('#df-18308291-9de6-459b-8aed-3c79d524942a');\n",
              "          const dataTable =\n",
              "            await google.colab.kernel.invokeFunction('convertToInteractive',\n",
              "                                                     [key], {});\n",
              "          if (!dataTable) return;\n",
              "\n",
              "          const docLinkHtml = 'Like what you see? Visit the ' +\n",
              "            '<a target=\"_blank\" href=https://colab.research.google.com/notebooks/data_table.ipynb>data table notebook</a>'\n",
              "            + ' to learn more about interactive tables.';\n",
              "          element.innerHTML = '';\n",
              "          dataTable['output_type'] = 'display_data';\n",
              "          await google.colab.output.renderOutput(dataTable, element);\n",
              "          const docLink = document.createElement('div');\n",
              "          docLink.innerHTML = docLinkHtml;\n",
              "          element.appendChild(docLink);\n",
              "        }\n",
              "      </script>\n",
              "    </div>\n",
              "  </div>\n",
              "  "
            ],
            "text/plain": [
              "      ID  Year_Birth   Education Marital_Status      Income   Kidhome  \\\n",
              "0   1826        1970  Graduation       Divorced  $84,835.00         0   \n",
              "1      1        1961  Graduation         Single  $57,091.00         0   \n",
              "2  10476        1958  Graduation        Married  $67,267.00         0   \n",
              "3   1386        1967  Graduation       Together  $32,474.00         1   \n",
              "4   5371        1989  Graduation         Single  $21,474.00         1   \n",
              "\n",
              "   Teenhome Dt_Customer  Recency  MntWines  ...  NumStorePurchases  \\\n",
              "0         0     6/16/14        0       189  ...                  6   \n",
              "1         0     6/15/14        0       464  ...                  7   \n",
              "2         1     5/13/14        0       134  ...                  5   \n",
              "3         1     5/11/14        0        10  ...                  2   \n",
              "4         0      4/8/14        0         6  ...                  2   \n",
              "\n",
              "   NumWebVisitsMonth  AcceptedCmp3  AcceptedCmp4  AcceptedCmp5  AcceptedCmp1  \\\n",
              "0                  1             0             0             0             0   \n",
              "1                  5             0             0             0             0   \n",
              "2                  2             0             0             0             0   \n",
              "3                  7             0             0             0             0   \n",
              "4                  7             1             0             0             0   \n",
              "\n",
              "   AcceptedCmp2  Response  Complain  Country  \n",
              "0             0         1         0       SP  \n",
              "1             1         1         0       CA  \n",
              "2             0         0         0       US  \n",
              "3             0         0         0      AUS  \n",
              "4             0         1         0       SP  \n",
              "\n",
              "[5 rows x 28 columns]"
            ]
          },
          "execution_count": 4,
          "metadata": {},
          "output_type": "execute_result"
        }
      ],
      "source": [
        "df=pd.read_csv('marketing-churn.csv')\n",
        "df.head()"
      ]
    },
    {
      "cell_type": "code",
      "execution_count": 5,
      "metadata": {
        "colab": {
          "base_uri": "https://localhost:8080/"
        },
        "id": "19e_EeTKl3W1",
        "outputId": "28e14d13-fe60-4eec-dab2-cfe697c9a699"
      },
      "outputs": [
        {
          "data": {
            "text/plain": [
              "(2240, 28)"
            ]
          },
          "execution_count": 5,
          "metadata": {},
          "output_type": "execute_result"
        }
      ],
      "source": [
        "df.shape"
      ]
    },
    {
      "cell_type": "code",
      "execution_count": 6,
      "metadata": {
        "colab": {
          "base_uri": "https://localhost:8080/"
        },
        "id": "KbDXlFXjl6r1",
        "outputId": "a2c90205-f41e-44d7-f4fa-1c5fce2a7f17"
      },
      "outputs": [
        {
          "data": {
            "text/plain": [
              "ID                      int64\n",
              "Year_Birth              int64\n",
              "Education              object\n",
              "Marital_Status         object\n",
              " Income                object\n",
              "Kidhome                 int64\n",
              "Teenhome                int64\n",
              "Dt_Customer            object\n",
              "Recency                 int64\n",
              "MntWines                int64\n",
              "MntFruits               int64\n",
              "MntMeatProducts         int64\n",
              "MntFishProducts         int64\n",
              "MntSweetProducts        int64\n",
              "MntGoldProds            int64\n",
              "NumDealsPurchases       int64\n",
              "NumWebPurchases         int64\n",
              "NumCatalogPurchases     int64\n",
              "NumStorePurchases       int64\n",
              "NumWebVisitsMonth       int64\n",
              "AcceptedCmp3            int64\n",
              "AcceptedCmp4            int64\n",
              "AcceptedCmp5            int64\n",
              "AcceptedCmp1            int64\n",
              "AcceptedCmp2            int64\n",
              "Response                int64\n",
              "Complain                int64\n",
              "Country                object\n",
              "dtype: object"
            ]
          },
          "execution_count": 6,
          "metadata": {},
          "output_type": "execute_result"
        }
      ],
      "source": [
        "df.dtypes"
      ]
    },
    {
      "cell_type": "code",
      "execution_count": 7,
      "metadata": {
        "colab": {
          "base_uri": "https://localhost:8080/"
        },
        "id": "vC5vf-ugl851",
        "outputId": "bc75e3c2-c7df-4f9c-a6b8-ccbc4d531025"
      },
      "outputs": [
        {
          "data": {
            "text/plain": [
              "ID                      0\n",
              "Year_Birth              0\n",
              "Education               0\n",
              "Marital_Status          0\n",
              " Income                24\n",
              "Kidhome                 0\n",
              "Teenhome                0\n",
              "Dt_Customer             0\n",
              "Recency                 0\n",
              "MntWines                0\n",
              "MntFruits               0\n",
              "MntMeatProducts         0\n",
              "MntFishProducts         0\n",
              "MntSweetProducts        0\n",
              "MntGoldProds            0\n",
              "NumDealsPurchases       0\n",
              "NumWebPurchases         0\n",
              "NumCatalogPurchases     0\n",
              "NumStorePurchases       0\n",
              "NumWebVisitsMonth       0\n",
              "AcceptedCmp3            0\n",
              "AcceptedCmp4            0\n",
              "AcceptedCmp5            0\n",
              "AcceptedCmp1            0\n",
              "AcceptedCmp2            0\n",
              "Response                0\n",
              "Complain                0\n",
              "Country                 0\n",
              "dtype: int64"
            ]
          },
          "execution_count": 7,
          "metadata": {},
          "output_type": "execute_result"
        }
      ],
      "source": [
        "df.isna().sum()"
      ]
    },
    {
      "cell_type": "code",
      "execution_count": 8,
      "metadata": {
        "id": "OGxaPSE7umDW"
      },
      "outputs": [],
      "source": [
        "df['Income']=df[' Income ']\n",
        "df=df.drop(' Income ', axis=1)"
      ]
    },
    {
      "cell_type": "code",
      "execution_count": 9,
      "metadata": {
        "colab": {
          "base_uri": "https://localhost:8080/"
        },
        "id": "-P4SdRl_vtqx",
        "outputId": "f261e18f-b525-47e0-b6a9-5560e1b11aa9"
      },
      "outputs": [
        {
          "data": {
            "text/plain": [
              "ID                      0\n",
              "Year_Birth              0\n",
              "Education               0\n",
              "Marital_Status          0\n",
              "Kidhome                 0\n",
              "Teenhome                0\n",
              "Dt_Customer             0\n",
              "Recency                 0\n",
              "MntWines                0\n",
              "MntFruits               0\n",
              "MntMeatProducts         0\n",
              "MntFishProducts         0\n",
              "MntSweetProducts        0\n",
              "MntGoldProds            0\n",
              "NumDealsPurchases       0\n",
              "NumWebPurchases         0\n",
              "NumCatalogPurchases     0\n",
              "NumStorePurchases       0\n",
              "NumWebVisitsMonth       0\n",
              "AcceptedCmp3            0\n",
              "AcceptedCmp4            0\n",
              "AcceptedCmp5            0\n",
              "AcceptedCmp1            0\n",
              "AcceptedCmp2            0\n",
              "Response                0\n",
              "Complain                0\n",
              "Country                 0\n",
              "Income                 24\n",
              "dtype: int64"
            ]
          },
          "execution_count": 9,
          "metadata": {},
          "output_type": "execute_result"
        }
      ],
      "source": [
        "df.isna().sum()"
      ]
    },
    {
      "cell_type": "code",
      "execution_count": 10,
      "metadata": {
        "colab": {
          "base_uri": "https://localhost:8080/"
        },
        "id": "SvO61r6gvRX0",
        "outputId": "22b397c7-7618-4d1a-97cb-1da20069e37e"
      },
      "outputs": [
        {
          "data": {
            "text/plain": [
              "0    1906\n",
              "1     334\n",
              "Name: Response, dtype: int64"
            ]
          },
          "execution_count": 10,
          "metadata": {},
          "output_type": "execute_result"
        }
      ],
      "source": [
        "df['Response'].value_counts()"
      ]
    },
    {
      "cell_type": "markdown",
      "metadata": {
        "id": "-XPZmMJYv4Yo"
      },
      "source": [
        "##Univariate Analysis"
      ]
    },
    {
      "cell_type": "markdown",
      "metadata": {
        "id": "FiNFNGmov7pt"
      },
      "source": [
        "Income"
      ]
    },
    {
      "cell_type": "code",
      "execution_count": 11,
      "metadata": {
        "colab": {
          "base_uri": "https://localhost:8080/"
        },
        "id": "ZaDDsaSvv3qn",
        "outputId": "c13eaead-a1f3-48e6-ba19-f456166a8bed"
      },
      "outputs": [
        {
          "name": "stdout",
          "output_type": "stream",
          "text": [
            "input dollar  $84,835.00 \n",
            "Output 84835\n"
          ]
        },
        {
          "data": {
            "text/plain": [
              "0       84835.0\n",
              "1       57091.0\n",
              "2       67267.0\n",
              "3       32474.0\n",
              "4       21474.0\n",
              "         ...   \n",
              "2235    66476.0\n",
              "2236    31056.0\n",
              "2237    46310.0\n",
              "2238    65819.0\n",
              "2239    94871.0\n",
              "Name: Income_Real, Length: 2240, dtype: float64"
            ]
          },
          "execution_count": 11,
          "metadata": {},
          "output_type": "execute_result"
        }
      ],
      "source": [
        "def dollar_to_int(x):\n",
        "  if pd.isnull(x):\n",
        "    return x\n",
        "  else:\n",
        "    x = x.strip()\n",
        "    x = x[1:]\n",
        "    x = x[:-3]\n",
        "    x = x.replace(',', '')\n",
        "    return int(x)\n",
        "input_dollar =' $84,835.00 '\n",
        "print('input dollar', input_dollar)\n",
        "print('Output', dollar_to_int(input_dollar))\n",
        "\n",
        "df['Income_Real']= df['Income'].apply(dollar_to_int)\n",
        "df['Income_Real']\n",
        "\n",
        "    "
      ]
    },
    {
      "cell_type": "code",
      "execution_count": 12,
      "metadata": {
        "colab": {
          "base_uri": "https://localhost:8080/",
          "height": 297
        },
        "id": "n0Ai5YDrwyfL",
        "outputId": "9a79961d-c3d7-4171-87a8-6956bf707c2d"
      },
      "outputs": [
        {
          "data": {
            "text/plain": [
              "<matplotlib.axes._subplots.AxesSubplot at 0x7fdaf0972110>"
            ]
          },
          "execution_count": 12,
          "metadata": {},
          "output_type": "execute_result"
        },
        {
          "data": {
            "image/png": "[encoded data removed]",
            "text/plain": [
              "<Figure size 432x288 with 1 Axes>"
            ]
          },
          "metadata": {
            "needs_background": "light"
          },
          "output_type": "display_data"
        }
      ],
      "source": [
        "sns.histplot(df, x='Income_Real', hue='Response')\n"
      ]
    },
    {
      "cell_type": "code",
      "execution_count": 13,
      "metadata": {
        "colab": {
          "base_uri": "https://localhost:8080/",
          "height": 297
        },
        "id": "cfxm9jcizoMC",
        "outputId": "8fbbc521-19ef-48b7-9fb2-a832116262be"
      },
      "outputs": [
        {
          "data": {
            "text/plain": [
              "<matplotlib.axes._subplots.AxesSubplot at 0x7fdaf009be90>"
            ]
          },
          "execution_count": 13,
          "metadata": {},
          "output_type": "execute_result"
        },
        {
          "data": {
            "image/png": "[encoded data removed]",
            "text/plain": [
              "<Figure size 432x288 with 1 Axes>"
            ]
          },
          "metadata": {
            "needs_background": "light"
          },
          "output_type": "display_data"
        }
      ],
      "source": [
        "sns.boxplot(data=df, x='Income_Real')"
      ]
    },
    {
      "cell_type": "code",
      "execution_count": 13,
      "metadata": {
        "id": "Rh_1PIfk0GDl"
      },
      "outputs": [],
      "source": []
    },
    {
      "cell_type": "code",
      "execution_count": 14,
      "metadata": {
        "id": "D23SQmk20gP2"
      },
      "outputs": [],
      "source": [
        "Q1= df['Income_Real'].quantile(0.3)\n",
        "Q3= df['Income_Real'].quantile(0.7)\n",
        "IQR= Q3-Q1\n",
        "Upper_Limit= Q3 + (1.5 * IQR)\n",
        "df= df[df['Income_Real'] <= Upper_Limit]"
      ]
    },
    {
      "cell_type": "code",
      "execution_count": 15,
      "metadata": {
        "colab": {
          "base_uri": "https://localhost:8080/",
          "height": 297
        },
        "id": "lmM9cJuw17yt",
        "outputId": "5cc58b52-bdf3-4678-ad19-75f6d04ed894"
      },
      "outputs": [
        {
          "data": {
            "text/plain": [
              "<matplotlib.axes._subplots.AxesSubplot at 0x7fdaf0070810>"
            ]
          },
          "execution_count": 15,
          "metadata": {},
          "output_type": "execute_result"
        },
        {
          "data": {
            "image/png": "[encoded data removed]",
            "text/plain": [
              "<Figure size 432x288 with 1 Axes>"
            ]
          },
          "metadata": {
            "needs_background": "light"
          },
          "output_type": "display_data"
        }
      ],
      "source": [
        "sns.histplot(df, x='Income_Real', hue= 'Response')"
      ]
    },
    {
      "cell_type": "code",
      "execution_count": 16,
      "metadata": {
        "id": "ShSxZjEu23fI"
      },
      "outputs": [],
      "source": [
        "def bootstrap(df, column):\n",
        "\n",
        "    BOOTS_RESULT = []\n",
        "    for i in range(200):\n",
        "        # sampling kelas Response = 0\n",
        "        mean_0 = df[df['Response'] == 0][column].sample(100).mean()\n",
        "        mean_1 = df[df['Response'] == 1][column].sample(100).mean()\n",
        "\n",
        "        BOOTS_RESULT.append((mean_0, 0))\n",
        "        BOOTS_RESULT.append((mean_1, 1))\n",
        "    df_boots = pd.DataFrame(BOOTS_RESULT, columns=[column, 'Response'])\n",
        "    return df_boots\n",
        "\n",
        "df_boots = bootstrap(df, 'Income_Real')"
      ]
    },
    {
      "cell_type": "code",
      "execution_count": 17,
      "metadata": {
        "colab": {
          "base_uri": "https://localhost:8080/",
          "height": 297
        },
        "id": "Be2-KAl63EMM",
        "outputId": "cbd541ef-9639-4956-d724-12d534c8ecb7"
      },
      "outputs": [
        {
          "data": {
            "text/plain": [
              "<matplotlib.axes._subplots.AxesSubplot at 0x7fdaf006f550>"
            ]
          },
          "execution_count": 17,
          "metadata": {},
          "output_type": "execute_result"
        },
        {
          "data": {
            "image/png": "[encoded data removed]",
            "text/plain": [
              "<Figure size 432x288 with 1 Axes>"
            ]
          },
          "metadata": {
            "needs_background": "light"
          },
          "output_type": "display_data"
        }
      ],
      "source": [
        "sns.histplot(df_boots, x='Income_Real', hue='Response')"
      ]
    },
    {
      "cell_type": "markdown",
      "metadata": {
        "id": "CkirXn0p3Ty0"
      },
      "source": [
        "##Education"
      ]
    },
    {
      "cell_type": "code",
      "execution_count": 18,
      "metadata": {
        "colab": {
          "base_uri": "https://localhost:8080/"
        },
        "id": "PJRBXfkZ3Wjs",
        "outputId": "2abaa47a-0ff2-4bf3-bd82-6fe385ec846d"
      },
      "outputs": [
        {
          "data": {
            "text/plain": [
              "Graduation    1113\n",
              "PhD            476\n",
              "Master         364\n",
              "2n Cycle       200\n",
              "Basic           54\n",
              "Name: Education, dtype: int64"
            ]
          },
          "execution_count": 18,
          "metadata": {},
          "output_type": "execute_result"
        }
      ],
      "source": [
        "df['Education'].value_counts()"
      ]
    },
    {
      "cell_type": "code",
      "execution_count": 19,
      "metadata": {
        "colab": {
          "base_uri": "https://localhost:8080/",
          "height": 296
        },
        "id": "WjfudSia3fFM",
        "outputId": "8663c39f-1125-4e37-e1ae-5505d2bc744f"
      },
      "outputs": [
        {
          "data": {
            "text/plain": [
              "<matplotlib.axes._subplots.AxesSubplot at 0x7fdaf0068810>"
            ]
          },
          "execution_count": 19,
          "metadata": {},
          "output_type": "execute_result"
        },
        {
          "data": {
            "image/png": "[encoded data removed]",
            "text/plain": [
              "<Figure size 432x288 with 1 Axes>"
            ]
          },
          "metadata": {
            "needs_background": "light"
          },
          "output_type": "display_data"
        }
      ],
      "source": [
        "sns.countplot(data=df ,x='Education')"
      ]
    },
    {
      "cell_type": "code",
      "execution_count": 20,
      "metadata": {
        "colab": {
          "base_uri": "https://localhost:8080/",
          "height": 363
        },
        "id": "9r23k7Wy4QGv",
        "outputId": "b10de224-703c-4ab2-8c58-57e4622705be"
      },
      "outputs": [
        {
          "data": {
            "text/html": [
              "\n",
              "  <div id=\"df-794f79f0-0bfb-4b4a-8062-21a2ef2bcf09\">\n",
              "    <div class=\"colab-df-container\">\n",
              "      <div>\n",
              "<style scoped>\n",
              "    .dataframe tbody tr th:only-of-type {\n",
              "        vertical-align: middle;\n",
              "    }\n",
              "\n",
              "    .dataframe tbody tr th {\n",
              "        vertical-align: top;\n",
              "    }\n",
              "\n",
              "    .dataframe thead th {\n",
              "        text-align: right;\n",
              "    }\n",
              "</style>\n",
              "<table border=\"1\" class=\"dataframe\">\n",
              "  <thead>\n",
              "    <tr style=\"text-align: right;\">\n",
              "      <th></th>\n",
              "      <th>Education</th>\n",
              "      <th>Response</th>\n",
              "      <th>Total_Per_Response</th>\n",
              "      <th>Total_Per_Edu</th>\n",
              "      <th>ratio</th>\n",
              "    </tr>\n",
              "  </thead>\n",
              "  <tbody>\n",
              "    <tr>\n",
              "      <th>0</th>\n",
              "      <td>2n Cycle</td>\n",
              "      <td>0</td>\n",
              "      <td>178</td>\n",
              "      <td>200</td>\n",
              "      <td>0.890000</td>\n",
              "    </tr>\n",
              "    <tr>\n",
              "      <th>1</th>\n",
              "      <td>2n Cycle</td>\n",
              "      <td>1</td>\n",
              "      <td>22</td>\n",
              "      <td>200</td>\n",
              "      <td>0.110000</td>\n",
              "    </tr>\n",
              "    <tr>\n",
              "      <th>2</th>\n",
              "      <td>Basic</td>\n",
              "      <td>0</td>\n",
              "      <td>52</td>\n",
              "      <td>54</td>\n",
              "      <td>0.962963</td>\n",
              "    </tr>\n",
              "    <tr>\n",
              "      <th>3</th>\n",
              "      <td>Basic</td>\n",
              "      <td>1</td>\n",
              "      <td>2</td>\n",
              "      <td>54</td>\n",
              "      <td>0.037037</td>\n",
              "    </tr>\n",
              "    <tr>\n",
              "      <th>4</th>\n",
              "      <td>Graduation</td>\n",
              "      <td>0</td>\n",
              "      <td>961</td>\n",
              "      <td>1113</td>\n",
              "      <td>0.863432</td>\n",
              "    </tr>\n",
              "    <tr>\n",
              "      <th>5</th>\n",
              "      <td>Graduation</td>\n",
              "      <td>1</td>\n",
              "      <td>152</td>\n",
              "      <td>1113</td>\n",
              "      <td>0.136568</td>\n",
              "    </tr>\n",
              "    <tr>\n",
              "      <th>6</th>\n",
              "      <td>Master</td>\n",
              "      <td>0</td>\n",
              "      <td>308</td>\n",
              "      <td>364</td>\n",
              "      <td>0.846154</td>\n",
              "    </tr>\n",
              "    <tr>\n",
              "      <th>7</th>\n",
              "      <td>Master</td>\n",
              "      <td>1</td>\n",
              "      <td>56</td>\n",
              "      <td>364</td>\n",
              "      <td>0.153846</td>\n",
              "    </tr>\n",
              "    <tr>\n",
              "      <th>8</th>\n",
              "      <td>PhD</td>\n",
              "      <td>0</td>\n",
              "      <td>375</td>\n",
              "      <td>476</td>\n",
              "      <td>0.787815</td>\n",
              "    </tr>\n",
              "    <tr>\n",
              "      <th>9</th>\n",
              "      <td>PhD</td>\n",
              "      <td>1</td>\n",
              "      <td>101</td>\n",
              "      <td>476</td>\n",
              "      <td>0.212185</td>\n",
              "    </tr>\n",
              "  </tbody>\n",
              "</table>\n",
              "</div>\n",
              "      <button class=\"colab-df-convert\" onclick=\"convertToInteractive('df-794f79f0-0bfb-4b4a-8062-21a2ef2bcf09')\"\n",
              "              title=\"Convert this dataframe to an interactive table.\"\n",
              "              style=\"display:none;\">\n",
              "        \n",
              "  <svg xmlns=\"http://www.w3.org/2000/svg\" height=\"24px\"viewBox=\"0 0 24 24\"\n",
              "       width=\"24px\">\n",
              "    <path d=\"M0 0h24v24H0V0z\" fill=\"none\"/>\n",
              "    <path d=\"M18.56 5.44l.94 2.06.94-2.06 2.06-.94-2.06-.94-.94-2.06-.94 2.06-2.06.94zm-11 1L8.5 8.5l.94-2.06 2.06-.94-2.06-.94L8.5 2.5l-.94 2.06-2.06.94zm10 10l.94 2.06.94-2.06 2.06-.94-2.06-.94-.94-2.06-.94 2.06-2.06.94z\"/><path d=\"M17.41 7.96l-1.37-1.37c-.4-.4-.92-.59-1.43-.59-.52 0-1.04.2-1.43.59L10.3 9.45l-7.72 7.72c-.78.78-.78 2.05 0 2.83L4 21.41c.39.39.9.59 1.41.59.51 0 1.02-.2 1.41-.59l7.78-7.78 2.81-2.81c.8-.78.8-2.07 0-2.86zM5.41 20L4 18.59l7.72-7.72 1.47 1.35L5.41 20z\"/>\n",
              "  </svg>\n",
              "      </button>\n",
              "      \n",
              "  <style>\n",
              "    .colab-df-container {\n",
              "      display:flex;\n",
              "      flex-wrap:wrap;\n",
              "      gap: 12px;\n",
              "    }\n",
              "\n",
              "    .colab-df-convert {\n",
              "      background-color: #E8F0FE;\n",
              "      border: none;\n",
              "      border-radius: 50%;\n",
              "      cursor: pointer;\n",
              "      display: none;\n",
              "      fill: #1967D2;\n",
              "      height: 32px;\n",
              "      padding: 0 0 0 0;\n",
              "      width: 32px;\n",
              "    }\n",
              "\n",
              "    .colab-df-convert:hover {\n",
              "      background-color: #E2EBFA;\n",
              "      box-shadow: 0px 1px 2px rgba(60, 64, 67, 0.3), 0px 1px 3px 1px rgba(60, 64, 67, 0.15);\n",
              "      fill: #174EA6;\n",
              "    }\n",
              "\n",
              "    [theme=dark] .colab-df-convert {\n",
              "      background-color: #3B4455;\n",
              "      fill: #D2E3FC;\n",
              "    }\n",
              "\n",
              "    [theme=dark] .colab-df-convert:hover {\n",
              "      background-color: #434B5C;\n",
              "      box-shadow: 0px 1px 3px 1px rgba(0, 0, 0, 0.15);\n",
              "      filter: drop-shadow(0px 1px 2px rgba(0, 0, 0, 0.3));\n",
              "      fill: #FFFFFF;\n",
              "    }\n",
              "  </style>\n",
              "\n",
              "      <script>\n",
              "        const buttonEl =\n",
              "          document.querySelector('#df-794f79f0-0bfb-4b4a-8062-21a2ef2bcf09 button.colab-df-convert');\n",
              "        buttonEl.style.display =\n",
              "          google.colab.kernel.accessAllowed ? 'block' : 'none';\n",
              "\n",
              "        async function convertToInteractive(key) {\n",
              "          const element = document.querySelector('#df-794f79f0-0bfb-4b4a-8062-21a2ef2bcf09');\n",
              "          const dataTable =\n",
              "            await google.colab.kernel.invokeFunction('convertToInteractive',\n",
              "                                                     [key], {});\n",
              "          if (!dataTable) return;\n",
              "\n",
              "          const docLinkHtml = 'Like what you see? Visit the ' +\n",
              "            '<a target=\"_blank\" href=https://colab.research.google.com/notebooks/data_table.ipynb>data table notebook</a>'\n",
              "            + ' to learn more about interactive tables.';\n",
              "          element.innerHTML = '';\n",
              "          dataTable['output_type'] = 'display_data';\n",
              "          await google.colab.output.renderOutput(dataTable, element);\n",
              "          const docLink = document.createElement('div');\n",
              "          docLink.innerHTML = docLinkHtml;\n",
              "          element.appendChild(docLink);\n",
              "        }\n",
              "      </script>\n",
              "    </div>\n",
              "  </div>\n",
              "  "
            ],
            "text/plain": [
              "    Education  Response  Total_Per_Response  Total_Per_Edu     ratio\n",
              "0    2n Cycle         0                 178            200  0.890000\n",
              "1    2n Cycle         1                  22            200  0.110000\n",
              "2       Basic         0                  52             54  0.962963\n",
              "3       Basic         1                   2             54  0.037037\n",
              "4  Graduation         0                 961           1113  0.863432\n",
              "5  Graduation         1                 152           1113  0.136568\n",
              "6      Master         0                 308            364  0.846154\n",
              "7      Master         1                  56            364  0.153846\n",
              "8         PhD         0                 375            476  0.787815\n",
              "9         PhD         1                 101            476  0.212185"
            ]
          },
          "execution_count": 20,
          "metadata": {},
          "output_type": "execute_result"
        }
      ],
      "source": [
        "per_response = df.groupby(['Education', 'Response']).size().to_frame('Total_Per_Response')\n",
        "per_education = df.groupby('Education').size().to_frame('Total_Per_Edu')\n",
        "\n",
        "joined = per_response.join(\n",
        "    per_education,\n",
        "    on='Education'\n",
        ").reset_index()\n",
        "\n",
        "joined['ratio'] = joined['Total_Per_Response'] / joined['Total_Per_Edu']\n",
        "joined"
      ]
    },
    {
      "cell_type": "code",
      "execution_count": 22,
      "metadata": {
        "colab": {
          "base_uri": "https://localhost:8080/",
          "height": 298
        },
        "id": "WWje7kZe4QLx",
        "outputId": "9704c134-5097-4b2f-80e2-83afcc28f5ef"
      },
      "outputs": [
        {
          "data": {
            "text/plain": [
              "<matplotlib.axes._subplots.AxesSubplot at 0x7fdaf09c2fd0>"
            ]
          },
          "execution_count": 22,
          "metadata": {},
          "output_type": "execute_result"
        },
        {
          "data": {
            "image/png": "[encoded data removed]",
            "text/plain": [
              "<Figure size 432x288 with 1 Axes>"
            ]
          },
          "metadata": {
            "needs_background": "light"
          },
          "output_type": "display_data"
        }
      ],
      "source": [
        "sns.barplot(data= joined, y= \"ratio\", hue='Response' , x='Education')"
      ]
    },
    {
      "cell_type": "markdown",
      "metadata": {
        "id": "f-FT6cscB2g1"
      },
      "source": [
        "##Marital Status"
      ]
    },
    {
      "cell_type": "code",
      "execution_count": 23,
      "metadata": {
        "colab": {
          "base_uri": "https://localhost:8080/"
        },
        "id": "symjkFeXBpX2",
        "outputId": "48dab6d4-3a32-4dbf-d793-51ff67cd9442"
      },
      "outputs": [
        {
          "data": {
            "text/plain": [
              "Married     854\n",
              "Together    569\n",
              "Single      470\n",
              "Divorced    231\n",
              "Widow        76\n",
              "Alone         3\n",
              "YOLO          2\n",
              "Absurd        2\n",
              "Name: Marital_Status, dtype: int64"
            ]
          },
          "execution_count": 23,
          "metadata": {},
          "output_type": "execute_result"
        }
      ],
      "source": [
        "df['Marital_Status'].value_counts()"
      ]
    },
    {
      "cell_type": "code",
      "execution_count": 25,
      "metadata": {
        "colab": {
          "base_uri": "https://localhost:8080/",
          "height": 297
        },
        "id": "2Hv-dpM1B6-j",
        "outputId": "04d17fdb-e761-43a2-9721-361064f91185"
      },
      "outputs": [
        {
          "data": {
            "text/plain": [
              "<matplotlib.axes._subplots.AxesSubplot at 0x7fdaf000ad90>"
            ]
          },
          "execution_count": 25,
          "metadata": {},
          "output_type": "execute_result"
        },
        {
          "data": {
            "image/png": "[encoded data removed]",
            "text/plain": [
              "<Figure size 432x288 with 1 Axes>"
            ]
          },
          "metadata": {
            "needs_background": "light"
          },
          "output_type": "display_data"
        }
      ],
      "source": [
        "sns.countplot(data=df, x='Marital_Status')"
      ]
    },
    {
      "cell_type": "code",
      "execution_count": 30,
      "metadata": {
        "colab": {
          "base_uri": "https://localhost:8080/",
          "height": 551
        },
        "id": "6MfPpOzpC2XD",
        "outputId": "255f5ec5-764a-4c6f-f6e9-ab8fc97b6a00"
      },
      "outputs": [
        {
          "data": {
            "text/html": [
              "\n",
              "  <div id=\"df-1c6a7103-e4a5-43e1-b812-22224df4af29\">\n",
              "    <div class=\"colab-df-container\">\n",
              "      <div>\n",
              "<style scoped>\n",
              "    .dataframe tbody tr th:only-of-type {\n",
              "        vertical-align: middle;\n",
              "    }\n",
              "\n",
              "    .dataframe tbody tr th {\n",
              "        vertical-align: top;\n",
              "    }\n",
              "\n",
              "    .dataframe thead th {\n",
              "        text-align: right;\n",
              "    }\n",
              "</style>\n",
              "<table border=\"1\" class=\"dataframe\">\n",
              "  <thead>\n",
              "    <tr style=\"text-align: right;\">\n",
              "      <th></th>\n",
              "      <th>Marital_Status</th>\n",
              "      <th>Response</th>\n",
              "      <th>Total_Per_Response</th>\n",
              "      <th>Total_per_MS</th>\n",
              "      <th>ratio</th>\n",
              "    </tr>\n",
              "  </thead>\n",
              "  <tbody>\n",
              "    <tr>\n",
              "      <th>0</th>\n",
              "      <td>Absurd</td>\n",
              "      <td>0</td>\n",
              "      <td>1</td>\n",
              "      <td>2</td>\n",
              "      <td>0.500000</td>\n",
              "    </tr>\n",
              "    <tr>\n",
              "      <th>1</th>\n",
              "      <td>Absurd</td>\n",
              "      <td>1</td>\n",
              "      <td>1</td>\n",
              "      <td>2</td>\n",
              "      <td>0.500000</td>\n",
              "    </tr>\n",
              "    <tr>\n",
              "      <th>2</th>\n",
              "      <td>Alone</td>\n",
              "      <td>0</td>\n",
              "      <td>2</td>\n",
              "      <td>3</td>\n",
              "      <td>0.666667</td>\n",
              "    </tr>\n",
              "    <tr>\n",
              "      <th>3</th>\n",
              "      <td>Alone</td>\n",
              "      <td>1</td>\n",
              "      <td>1</td>\n",
              "      <td>3</td>\n",
              "      <td>0.333333</td>\n",
              "    </tr>\n",
              "    <tr>\n",
              "      <th>4</th>\n",
              "      <td>Divorced</td>\n",
              "      <td>0</td>\n",
              "      <td>183</td>\n",
              "      <td>231</td>\n",
              "      <td>0.792208</td>\n",
              "    </tr>\n",
              "    <tr>\n",
              "      <th>5</th>\n",
              "      <td>Divorced</td>\n",
              "      <td>1</td>\n",
              "      <td>48</td>\n",
              "      <td>231</td>\n",
              "      <td>0.207792</td>\n",
              "    </tr>\n",
              "    <tr>\n",
              "      <th>6</th>\n",
              "      <td>Married</td>\n",
              "      <td>0</td>\n",
              "      <td>756</td>\n",
              "      <td>854</td>\n",
              "      <td>0.885246</td>\n",
              "    </tr>\n",
              "    <tr>\n",
              "      <th>7</th>\n",
              "      <td>Married</td>\n",
              "      <td>1</td>\n",
              "      <td>98</td>\n",
              "      <td>854</td>\n",
              "      <td>0.114754</td>\n",
              "    </tr>\n",
              "    <tr>\n",
              "      <th>8</th>\n",
              "      <td>Single</td>\n",
              "      <td>0</td>\n",
              "      <td>364</td>\n",
              "      <td>470</td>\n",
              "      <td>0.774468</td>\n",
              "    </tr>\n",
              "    <tr>\n",
              "      <th>9</th>\n",
              "      <td>Single</td>\n",
              "      <td>1</td>\n",
              "      <td>106</td>\n",
              "      <td>470</td>\n",
              "      <td>0.225532</td>\n",
              "    </tr>\n",
              "    <tr>\n",
              "      <th>10</th>\n",
              "      <td>Together</td>\n",
              "      <td>0</td>\n",
              "      <td>509</td>\n",
              "      <td>569</td>\n",
              "      <td>0.894552</td>\n",
              "    </tr>\n",
              "    <tr>\n",
              "      <th>11</th>\n",
              "      <td>Together</td>\n",
              "      <td>1</td>\n",
              "      <td>60</td>\n",
              "      <td>569</td>\n",
              "      <td>0.105448</td>\n",
              "    </tr>\n",
              "    <tr>\n",
              "      <th>12</th>\n",
              "      <td>Widow</td>\n",
              "      <td>0</td>\n",
              "      <td>58</td>\n",
              "      <td>76</td>\n",
              "      <td>0.763158</td>\n",
              "    </tr>\n",
              "    <tr>\n",
              "      <th>13</th>\n",
              "      <td>Widow</td>\n",
              "      <td>1</td>\n",
              "      <td>18</td>\n",
              "      <td>76</td>\n",
              "      <td>0.236842</td>\n",
              "    </tr>\n",
              "    <tr>\n",
              "      <th>14</th>\n",
              "      <td>YOLO</td>\n",
              "      <td>0</td>\n",
              "      <td>1</td>\n",
              "      <td>2</td>\n",
              "      <td>0.500000</td>\n",
              "    </tr>\n",
              "    <tr>\n",
              "      <th>15</th>\n",
              "      <td>YOLO</td>\n",
              "      <td>1</td>\n",
              "      <td>1</td>\n",
              "      <td>2</td>\n",
              "      <td>0.500000</td>\n",
              "    </tr>\n",
              "  </tbody>\n",
              "</table>\n",
              "</div>\n",
              "      <button class=\"colab-df-convert\" onclick=\"convertToInteractive('df-1c6a7103-e4a5-43e1-b812-22224df4af29')\"\n",
              "              title=\"Convert this dataframe to an interactive table.\"\n",
              "              style=\"display:none;\">\n",
              "        \n",
              "  <svg xmlns=\"http://www.w3.org/2000/svg\" height=\"24px\"viewBox=\"0 0 24 24\"\n",
              "       width=\"24px\">\n",
              "    <path d=\"M0 0h24v24H0V0z\" fill=\"none\"/>\n",
              "    <path d=\"M18.56 5.44l.94 2.06.94-2.06 2.06-.94-2.06-.94-.94-2.06-.94 2.06-2.06.94zm-11 1L8.5 8.5l.94-2.06 2.06-.94-2.06-.94L8.5 2.5l-.94 2.06-2.06.94zm10 10l.94 2.06.94-2.06 2.06-.94-2.06-.94-.94-2.06-.94 2.06-2.06.94z\"/><path d=\"M17.41 7.96l-1.37-1.37c-.4-.4-.92-.59-1.43-.59-.52 0-1.04.2-1.43.59L10.3 9.45l-7.72 7.72c-.78.78-.78 2.05 0 2.83L4 21.41c.39.39.9.59 1.41.59.51 0 1.02-.2 1.41-.59l7.78-7.78 2.81-2.81c.8-.78.8-2.07 0-2.86zM5.41 20L4 18.59l7.72-7.72 1.47 1.35L5.41 20z\"/>\n",
              "  </svg>\n",
              "      </button>\n",
              "      \n",
              "  <style>\n",
              "    .colab-df-container {\n",
              "      display:flex;\n",
              "      flex-wrap:wrap;\n",
              "      gap: 12px;\n",
              "    }\n",
              "\n",
              "    .colab-df-convert {\n",
              "      background-color: #E8F0FE;\n",
              "      border: none;\n",
              "      border-radius: 50%;\n",
              "      cursor: pointer;\n",
              "      display: none;\n",
              "      fill: #1967D2;\n",
              "      height: 32px;\n",
              "      padding: 0 0 0 0;\n",
              "      width: 32px;\n",
              "    }\n",
              "\n",
              "    .colab-df-convert:hover {\n",
              "      background-color: #E2EBFA;\n",
              "      box-shadow: 0px 1px 2px rgba(60, 64, 67, 0.3), 0px 1px 3px 1px rgba(60, 64, 67, 0.15);\n",
              "      fill: #174EA6;\n",
              "    }\n",
              "\n",
              "    [theme=dark] .colab-df-convert {\n",
              "      background-color: #3B4455;\n",
              "      fill: #D2E3FC;\n",
              "    }\n",
              "\n",
              "    [theme=dark] .colab-df-convert:hover {\n",
              "      background-color: #434B5C;\n",
              "      box-shadow: 0px 1px 3px 1px rgba(0, 0, 0, 0.15);\n",
              "      filter: drop-shadow(0px 1px 2px rgba(0, 0, 0, 0.3));\n",
              "      fill: #FFFFFF;\n",
              "    }\n",
              "  </style>\n",
              "\n",
              "      <script>\n",
              "        const buttonEl =\n",
              "          document.querySelector('#df-1c6a7103-e4a5-43e1-b812-22224df4af29 button.colab-df-convert');\n",
              "        buttonEl.style.display =\n",
              "          google.colab.kernel.accessAllowed ? 'block' : 'none';\n",
              "\n",
              "        async function convertToInteractive(key) {\n",
              "          const element = document.querySelector('#df-1c6a7103-e4a5-43e1-b812-22224df4af29');\n",
              "          const dataTable =\n",
              "            await google.colab.kernel.invokeFunction('convertToInteractive',\n",
              "                                                     [key], {});\n",
              "          if (!dataTable) return;\n",
              "\n",
              "          const docLinkHtml = 'Like what you see? Visit the ' +\n",
              "            '<a target=\"_blank\" href=https://colab.research.google.com/notebooks/data_table.ipynb>data table notebook</a>'\n",
              "            + ' to learn more about interactive tables.';\n",
              "          element.innerHTML = '';\n",
              "          dataTable['output_type'] = 'display_data';\n",
              "          await google.colab.output.renderOutput(dataTable, element);\n",
              "          const docLink = document.createElement('div');\n",
              "          docLink.innerHTML = docLinkHtml;\n",
              "          element.appendChild(docLink);\n",
              "        }\n",
              "      </script>\n",
              "    </div>\n",
              "  </div>\n",
              "  "
            ],
            "text/plain": [
              "   Marital_Status  Response  Total_Per_Response  Total_per_MS     ratio\n",
              "0          Absurd         0                   1             2  0.500000\n",
              "1          Absurd         1                   1             2  0.500000\n",
              "2           Alone         0                   2             3  0.666667\n",
              "3           Alone         1                   1             3  0.333333\n",
              "4        Divorced         0                 183           231  0.792208\n",
              "5        Divorced         1                  48           231  0.207792\n",
              "6         Married         0                 756           854  0.885246\n",
              "7         Married         1                  98           854  0.114754\n",
              "8          Single         0                 364           470  0.774468\n",
              "9          Single         1                 106           470  0.225532\n",
              "10       Together         0                 509           569  0.894552\n",
              "11       Together         1                  60           569  0.105448\n",
              "12          Widow         0                  58            76  0.763158\n",
              "13          Widow         1                  18            76  0.236842\n",
              "14           YOLO         0                   1             2  0.500000\n",
              "15           YOLO         1                   1             2  0.500000"
            ]
          },
          "execution_count": 30,
          "metadata": {},
          "output_type": "execute_result"
        }
      ],
      "source": [
        "per_response= df.groupby(['Marital_Status', 'Response']).size().to_frame('Total_Per_Response')\n",
        "per_MS= df.groupby(['Marital_Status']).size().to_frame('Total_per_MS')\n",
        "\n",
        "joined1= per_response.join(\n",
        "    per_MS,\n",
        "    on='Marital_Status'\n",
        ").reset_index()\n",
        "\n",
        "joined1['ratio']=joined1['Total_Per_Response'] / joined1['Total_per_MS'] \n",
        "joined1"
      ]
    },
    {
      "cell_type": "code",
      "execution_count": 31,
      "metadata": {
        "colab": {
          "base_uri": "https://localhost:8080/",
          "height": 297
        },
        "id": "-5ygAdHzEeZR",
        "outputId": "8c135152-fad3-439d-a67b-ee54c05a2742"
      },
      "outputs": [
        {
          "data": {
            "text/plain": [
              "<matplotlib.axes._subplots.AxesSubplot at 0x7fdaef8abcd0>"
            ]
          },
          "execution_count": 31,
          "metadata": {},
          "output_type": "execute_result"
        },
        {
          "data": {
            "image/png": "[encoded data removed]",
            "text/plain": [
              "<Figure size 432x288 with 1 Axes>"
            ]
          },
          "metadata": {
            "needs_background": "light"
          },
          "output_type": "display_data"
        }
      ],
      "source": [
        "sns.barplot(data=joined1, y='ratio', hue='Response', x='Marital_Status')"
      ]
    },
    {
      "cell_type": "code",
      "execution_count": null,
      "metadata": {
        "id": "_7RVeENWFMPO"
      },
      "outputs": [],
      "source": [
        "df = df[~df['Marital_Status'].isin(['Alone', 'YOLO', 'Absurd'])]"
      ]
    },
    {
      "cell_type": "markdown",
      "metadata": {
        "id": "f6bdpV2nFR-n"
      },
      "source": [
        "#Feature_Engineering"
      ]
    },
    {
      "cell_type": "markdown",
      "metadata": {
        "id": "MKERnSW3FU39"
      },
      "source": [
        "##Age"
      ]
    },
    {
      "cell_type": "code",
      "execution_count": 32,
      "metadata": {
        "id": "yUtQE4-2Fa5P"
      },
      "outputs": [],
      "source": [
        "df['Age']= 2022 - df['Year_Birth'] "
      ]
    },
    {
      "cell_type": "code",
      "execution_count": 33,
      "metadata": {
        "colab": {
          "base_uri": "https://localhost:8080/",
          "height": 296
        },
        "id": "hM1ue1UIFs4p",
        "outputId": "806c8afe-d10d-485e-b700-4f317d660491"
      },
      "outputs": [
        {
          "data": {
            "text/plain": [
              "<matplotlib.axes._subplots.AxesSubplot at 0x7fdaef852490>"
            ]
          },
          "execution_count": 33,
          "metadata": {},
          "output_type": "execute_result"
        },
        {
          "data": {
            "image/png": "[encoded data removed]",
            "text/plain": [
              "<Figure size 432x288 with 1 Axes>"
            ]
          },
          "metadata": {
            "needs_background": "light"
          },
          "output_type": "display_data"
        }
      ],
      "source": [
        "sns.histplot(data=df, x= 'Age', hue='Response')"
      ]
    },
    {
      "cell_type": "code",
      "execution_count": 34,
      "metadata": {
        "colab": {
          "base_uri": "https://localhost:8080/",
          "height": 296
        },
        "id": "gcSJJrSmGREs",
        "outputId": "2ba8fdb0-4830-41e7-c47f-264a468da1b3"
      },
      "outputs": [
        {
          "data": {
            "text/plain": [
              "<matplotlib.axes._subplots.AxesSubplot at 0x7fdaef5c1fd0>"
            ]
          },
          "execution_count": 34,
          "metadata": {},
          "output_type": "execute_result"
        },
        {
          "data": {
            "image/png": "[encoded data removed]",
            "text/plain": [
              "<Figure size 432x288 with 1 Axes>"
            ]
          },
          "metadata": {
            "needs_background": "light"
          },
          "output_type": "display_data"
        }
      ],
      "source": [
        "sns.boxplot(data=df, x='Age')"
      ]
    },
    {
      "cell_type": "code",
      "execution_count": 36,
      "metadata": {
        "colab": {
          "base_uri": "https://localhost:8080/"
        },
        "id": "BIqGd4yxGVw2",
        "outputId": "64f4dda6-8dd9-4c9a-c573-7eaa28150e62"
      },
      "outputs": [
        {
          "data": {
            "text/plain": [
              "(2204, 30)"
            ]
          },
          "execution_count": 36,
          "metadata": {},
          "output_type": "execute_result"
        }
      ],
      "source": [
        "df= df[df['Age'] <= 100]\n",
        "df.shape"
      ]
    },
    {
      "cell_type": "markdown",
      "metadata": {
        "id": "E0pjhLZHHp-B"
      },
      "source": [
        "##BootStrapping"
      ]
    },
    {
      "cell_type": "code",
      "execution_count": 37,
      "metadata": {
        "colab": {
          "base_uri": "https://localhost:8080/",
          "height": 296
        },
        "id": "6nrRFN8NHtTh",
        "outputId": "a884e5b4-25ab-4a92-9c1c-e12d78a0bc00"
      },
      "outputs": [
        {
          "data": {
            "text/plain": [
              "<matplotlib.axes._subplots.AxesSubplot at 0x7fdaf0aee810>"
            ]
          },
          "execution_count": 37,
          "metadata": {},
          "output_type": "execute_result"
        },
        {
          "data": {
            "image/png": "[encoded data removed]",
            "text/plain": [
              "<Figure size 432x288 with 1 Axes>"
            ]
          },
          "metadata": {
            "needs_background": "light"
          },
          "output_type": "display_data"
        }
      ],
      "source": [
        "df_boots = bootstrap (df, 'Age')\n",
        "sns.histplot(data=df_boots, x='Age', hue='Response')"
      ]
    },
    {
      "cell_type": "markdown",
      "metadata": {
        "id": "yhxm5AiaHws9"
      },
      "source": [
        "Days User Active"
      ]
    },
    {
      "cell_type": "code",
      "execution_count": 38,
      "metadata": {
        "colab": {
          "base_uri": "https://localhost:8080/"
        },
        "id": "NdJvP6cjHzWO",
        "outputId": "4894c9af-8249-4232-9aec-de78b0949eb8"
      },
      "outputs": [
        {
          "data": {
            "text/plain": [
              "0       3026\n",
              "1       3027\n",
              "2       3060\n",
              "3       3062\n",
              "4       3095\n",
              "        ... \n",
              "2235    3492\n",
              "2236    3536\n",
              "2237    3586\n",
              "2238    3590\n",
              "2239    3679\n",
              "Name: Active_For, Length: 2204, dtype: int64"
            ]
          },
          "execution_count": 38,
          "metadata": {},
          "output_type": "execute_result"
        }
      ],
      "source": [
        "from datetime import datetime\n",
        "\n",
        "def get_user_active(s):\n",
        "    month, day, year = s.split('/')\n",
        "    year = '20' + year\n",
        "    base = datetime(int(year), int(month), int(day))\n",
        "    elapse_days = datetime.now() - base\n",
        "    return elapse_days.days\n",
        "\n",
        "df['Active_For'] = df['Dt_Customer'].apply(get_user_active)\n",
        "df['Active_For']"
      ]
    },
    {
      "cell_type": "code",
      "execution_count": 39,
      "metadata": {
        "colab": {
          "base_uri": "https://localhost:8080/",
          "height": 297
        },
        "id": "rSZK1GnCH1hY",
        "outputId": "0853602a-78cf-440c-f45d-53b5f9f8f978"
      },
      "outputs": [
        {
          "data": {
            "text/plain": [
              "<matplotlib.axes._subplots.AxesSubplot at 0x7fdaefae3d50>"
            ]
          },
          "execution_count": 39,
          "metadata": {},
          "output_type": "execute_result"
        },
        {
          "data": {
            "image/png": "[encoded data removed]",
            "text/plain": [
              "<Figure size 432x288 with 1 Axes>"
            ]
          },
          "metadata": {
            "needs_background": "light"
          },
          "output_type": "display_data"
        }
      ],
      "source": [
        "df_boots = bootstrap (df, 'Active_For')\n",
        "sns.histplot(data=df_boots, x='Active_For', hue='Response')"
      ]
    },
    {
      "cell_type": "markdown",
      "metadata": {
        "id": "z0PHFrN8H8x9"
      },
      "source": [
        "##Ratio Accept Campaign"
      ]
    },
    {
      "cell_type": "code",
      "execution_count": 40,
      "metadata": {
        "id": "agRjzgOkH5X-"
      },
      "outputs": [],
      "source": [
        "df['Accept_Cmp_Ratio'] = (df['AcceptedCmp1'] + df['AcceptedCmp2'] + df['AcceptedCmp3'] + df['AcceptedCmp4'] + df['AcceptedCmp5']) / 5"
      ]
    },
    {
      "cell_type": "code",
      "execution_count": 41,
      "metadata": {
        "colab": {
          "base_uri": "https://localhost:8080/",
          "height": 297
        },
        "id": "-ki-BypoIA-Z",
        "outputId": "85926703-0ccb-4686-d2a4-1029ec1d5c66"
      },
      "outputs": [
        {
          "data": {
            "text/plain": [
              "<matplotlib.axes._subplots.AxesSubplot at 0x7fdaef495190>"
            ]
          },
          "execution_count": 41,
          "metadata": {},
          "output_type": "execute_result"
        },
        {
          "data": {
            "image/png": "[encoded data removed]",
            "text/plain": [
              "<Figure size 432x288 with 1 Axes>"
            ]
          },
          "metadata": {
            "needs_background": "light"
          },
          "output_type": "display_data"
        }
      ],
      "source": [
        "df_boots = bootstrap (df, 'Accept_Cmp_Ratio')\n",
        "sns.histplot(data=df_boots, x='Accept_Cmp_Ratio', hue='Response')"
      ]
    },
    {
      "cell_type": "markdown",
      "metadata": {
        "id": "KUhPIPKuID1E"
      },
      "source": [
        "##Correlation Analysis"
      ]
    },
    {
      "cell_type": "code",
      "execution_count": 43,
      "metadata": {
        "id": "xEWyQYk0IGBI"
      },
      "outputs": [],
      "source": [
        "FEATURE = ['Income_Real', 'Education', 'Marital_Status', 'Age', 'Active_For', 'Accept_Cmp_Ratio']\n",
        "TARGET = 'Response'\n",
        "\n",
        "X = df[FEATURE]\n",
        "y = df[TARGET]"
      ]
    },
    {
      "cell_type": "code",
      "execution_count": 44,
      "metadata": {
        "colab": {
          "base_uri": "https://localhost:8080/"
        },
        "id": "ef3Sfh7CIJ3o",
        "outputId": "9ad3a389-8452-4315-d883-36c4eca0bd6b"
      },
      "outputs": [
        {
          "data": {
            "text/plain": [
              "(2204, 6)"
            ]
          },
          "execution_count": 44,
          "metadata": {},
          "output_type": "execute_result"
        }
      ],
      "source": [
        "X.shape"
      ]
    },
    {
      "cell_type": "markdown",
      "metadata": {
        "id": "HunCHcOaIN_y"
      },
      "source": [
        "##Train & Testing"
      ]
    },
    {
      "cell_type": "code",
      "execution_count": 45,
      "metadata": {
        "id": "a9D7amisIRmK"
      },
      "outputs": [],
      "source": [
        "from sklearn.model_selection import train_test_split\n",
        "\n",
        "X_train, X_test, y_train, y_test = train_test_split(X, y, test_size=0.2, stratify=y)"
      ]
    },
    {
      "cell_type": "code",
      "execution_count": 46,
      "metadata": {
        "colab": {
          "base_uri": "https://localhost:8080/"
        },
        "id": "e0ltlIwFITh9",
        "outputId": "12f39557-7ea6-43ca-c71b-e9c4c26c5a6f"
      },
      "outputs": [
        {
          "name": "stdout",
          "output_type": "stream",
          "text": [
            "Shape of X_train:  (1763, 6)\n",
            "Shape of y_train: \n",
            " 0    1497\n",
            "1     266\n",
            "Name: Response, dtype: int64\n",
            "Shape of X_test:  (441, 6)\n",
            "Shape of y_test: \n",
            " 0    374\n",
            "1     67\n",
            "Name: Response, dtype: int64\n"
          ]
        }
      ],
      "source": [
        "print(\"Shape of X_train: \", X_train.shape)\n",
        "print(\"Shape of y_train: \\n\", y_train.value_counts())\n",
        "print(\"Shape of X_test: \", X_test.shape)\n",
        "print(\"Shape of y_test: \\n\", y_test.value_counts())"
      ]
    },
    {
      "cell_type": "code",
      "execution_count": 47,
      "metadata": {
        "colab": {
          "base_uri": "https://localhost:8080/"
        },
        "id": "vVDiYTSiIW1h",
        "outputId": "56581ba7-2f09-40c7-f948-a82aa21614e4"
      },
      "outputs": [
        {
          "data": {
            "text/plain": [
              "OneHotEncoder(sparse=False)"
            ]
          },
          "execution_count": 47,
          "metadata": {},
          "output_type": "execute_result"
        }
      ],
      "source": [
        "# transformasi data\n",
        "from sklearn.preprocessing import OneHotEncoder\n",
        "from sklearn.preprocessing import StandardScaler\n",
        "\n",
        "FEATURE_CAT = ['Education', 'Marital_Status']\n",
        "FEATURE_NUM =  ['Income_Real', 'Age', 'Active_For', 'Accept_Cmp_Ratio']\n",
        "\n",
        "scaler = StandardScaler() \n",
        "encoder = OneHotEncoder(sparse=False)\n",
        "\n",
        "scaler.fit(X_train[FEATURE_NUM])\n",
        "encoder.fit(X_train[FEATURE_CAT])"
      ]
    },
    {
      "cell_type": "code",
      "execution_count": 49,
      "metadata": {
        "colab": {
          "base_uri": "https://localhost:8080/"
        },
        "id": "pURndHyXIZIj",
        "outputId": "4ac30ac4-75db-49ed-d02d-a1e900dbbdd9"
      },
      "outputs": [
        {
          "data": {
            "text/plain": [
              "(1763, 17)"
            ]
          },
          "execution_count": 49,
          "metadata": {},
          "output_type": "execute_result"
        }
      ],
      "source": [
        "def transform(X):\n",
        "    X_scaled = scaler.transform(X[FEATURE_NUM])\n",
        "    X_encoded = encoder.transform(X[FEATURE_CAT])\n",
        "    X_stack = np.hstack((X_scaled, X_encoded))\n",
        "    return X_stack\n",
        "\n",
        "X_train_stack = transform(X_train)\n",
        "X_test_stack = transform(X_test)\n",
        "X_train_stack.shape"
      ]
    },
    {
      "cell_type": "code",
      "execution_count": 50,
      "metadata": {
        "colab": {
          "base_uri": "https://localhost:8080/"
        },
        "id": "pG8y_g_uIdR5",
        "outputId": "4b00abea-ad16-4b85-a2fe-c46bb0bf323d"
      },
      "outputs": [
        {
          "name": "stdout",
          "output_type": "stream",
          "text": [
            "Training svm\n",
            "Model: svm, Prec: 0.75, Recall: 0.27\n",
            "Training RF\n",
            "Model: RF, Prec: 0.68, Recall: 0.37\n",
            "Training LogReg\n",
            "Model: LogReg, Prec: 0.80, Recall: 0.42\n"
          ]
        }
      ],
      "source": [
        "#Pembuatan model Machine Learning\n",
        "from sklearn.metrics import precision_score, recall_score\n",
        "from sklearn.linear_model import LogisticRegression\n",
        "from sklearn.svm import SVC\n",
        "from sklearn.ensemble import RandomForestClassifier\n",
        "\n",
        "models = [\n",
        "    ('svm', SVC()),\n",
        "    ('RF', RandomForestClassifier()),\n",
        "    ('LogReg', LogisticRegression())\n",
        "]\n",
        "\n",
        "\n",
        "for model_name, model in models:\n",
        "    print(\"Training {}\".format(model_name))\n",
        "    \n",
        "    model.fit(X_train_stack, y_train)\n",
        "    predicted = model.predict(X_test_stack)\n",
        "    \n",
        "    prec = precision_score(y_test, predicted)\n",
        "    recall = recall_score(y_test, predicted)\n",
        "    \n",
        "    print(\"Model: {}, Prec: {:.2F}, Recall: {:.2F}\".format(\n",
        "        model_name, prec, recall\n",
        "    ))\n",
        "# Model: svm, Prec: 0.86, Recall: 0.29"
      ]
    },
    {
      "cell_type": "markdown",
      "metadata": {
        "id": "ShgT_n3XIfMu"
      },
      "source": [
        "##Sampling Method"
      ]
    },
    {
      "cell_type": "code",
      "execution_count": 51,
      "metadata": {
        "colab": {
          "base_uri": "https://localhost:8080/"
        },
        "id": "HkPqBGHYIhM7",
        "outputId": "1c099f9d-0ecf-44b2-c063-9d9dcc9f795f"
      },
      "outputs": [
        {
          "name": "stdout",
          "output_type": "stream",
          "text": [
            "Looking in indexes: https://pypi.org/simple, https://us-python.pkg.dev/colab-wheels/public/simple/\n",
            "Requirement already satisfied: imblearn in /usr/local/lib/python3.7/dist-packages (0.0)\n",
            "Requirement already satisfied: imbalanced-learn in /usr/local/lib/python3.7/dist-packages (from imblearn) (0.8.1)\n",
            "Requirement already satisfied: scipy>=0.19.1 in /usr/local/lib/python3.7/dist-packages (from imbalanced-learn->imblearn) (1.7.3)\n",
            "Requirement already satisfied: scikit-learn>=0.24 in /usr/local/lib/python3.7/dist-packages (from imbalanced-learn->imblearn) (1.0.2)\n",
            "Requirement already satisfied: joblib>=0.11 in /usr/local/lib/python3.7/dist-packages (from imbalanced-learn->imblearn) (1.1.0)\n",
            "Requirement already satisfied: numpy>=1.13.3 in /usr/local/lib/python3.7/dist-packages (from imbalanced-learn->imblearn) (1.21.6)\n",
            "Requirement already satisfied: threadpoolctl>=2.0.0 in /usr/local/lib/python3.7/dist-packages (from scikit-learn>=0.24->imbalanced-learn->imblearn) (3.1.0)\n"
          ]
        }
      ],
      "source": [
        "%pip install imblearn"
      ]
    },
    {
      "cell_type": "code",
      "execution_count": 53,
      "metadata": {
        "colab": {
          "base_uri": "https://localhost:8080/"
        },
        "id": "QMqAI3cFIji8",
        "outputId": "a53c9989-53cc-490d-bb05-1c60eb11e1f4"
      },
      "outputs": [
        {
          "data": {
            "text/plain": [
              "0    500\n",
              "1    500\n",
              "Name: Response, dtype: int64"
            ]
          },
          "execution_count": 53,
          "metadata": {},
          "output_type": "execute_result"
        }
      ],
      "source": [
        "from imblearn.over_sampling import RandomOverSampler\n",
        "from imblearn.under_sampling import RandomUnderSampler\n",
        "\n",
        "over = RandomOverSampler(sampling_strategy={1: 500})\n",
        "under = RandomUnderSampler(sampling_strategy={0: 500})\n",
        "\n",
        "X_train_sample, y_train_sample = over.fit_resample(X_train, y_train)\n",
        "X_train_sample, y_train_sample = under.fit_resample(X_train_sample, y_train_sample)\n",
        "y_train_sample.value_counts()"
      ]
    },
    {
      "cell_type": "code",
      "execution_count": 54,
      "metadata": {
        "colab": {
          "base_uri": "https://localhost:8080/"
        },
        "id": "Rfi4sxX4Ipfh",
        "outputId": "31eae7d5-b0b7-4a4e-9464-f03db10a7a04"
      },
      "outputs": [
        {
          "name": "stdout",
          "output_type": "stream",
          "text": [
            "Training svm\n",
            "Model: svm, Prec: 0.47, Recall: 0.81\n",
            "Training RF\n",
            "Model: RF, Prec: 0.43, Recall: 0.70\n",
            "Training LogReg\n",
            "Model: LogReg, Prec: 0.38, Recall: 0.69\n"
          ]
        }
      ],
      "source": [
        "X_train_sample_stack = transform(X_train_sample)\n",
        "\n",
        "models = [\n",
        "    ('svm', SVC()),\n",
        "    ('RF', RandomForestClassifier()),\n",
        "    ('LogReg', LogisticRegression())\n",
        "]\n",
        "\n",
        "\n",
        "for model_name, model in models:\n",
        "    print(\"Training {}\".format(model_name))\n",
        "    \n",
        "    model.fit(X_train_sample_stack, y_train_sample)\n",
        "    predicted = model.predict(X_test_stack)\n",
        "    \n",
        "    prec = precision_score(y_test, predicted)\n",
        "    recall = recall_score(y_test, predicted)\n",
        "    \n",
        "    print(\"Model: {}, Prec: {:.2F}, Recall: {:.2F}\".format(\n",
        "        model_name, prec, recall\n",
        "    ))"
      ]
    },
    {
      "cell_type": "markdown",
      "metadata": {
        "id": "SYqUM4_QIrcR"
      },
      "source": [
        "##Hyperparameter Seach"
      ]
    },
    {
      "cell_type": "code",
      "execution_count": 55,
      "metadata": {
        "id": "-ZbTFymuItD-"
      },
      "outputs": [],
      "source": [
        "from sklearn.model_selection import GridSearchCV\n",
        "\n",
        "PARAMETER_GRID = {\n",
        "    'C': [0.1, 0.01, 0.05, 0.5],\n",
        "    'kernel': ['linear', 'poly', 'rbf', 'sigmoid'],\n",
        "    'gamma' : ['scale', 'auto'],\n",
        "    'class_weight': ['balanced', {0: 1, 1: 2}, {0: 1, 1: 10}]\n",
        "}\n",
        "\n",
        "cv = GridSearchCV(SVC(), PARAMETER_GRID, verbose=2, scoring='precision')"
      ]
    },
    {
      "cell_type": "code",
      "execution_count": 56,
      "metadata": {
        "colab": {
          "base_uri": "https://localhost:8080/"
        },
        "id": "9LCthLhqIvlW",
        "outputId": "a1811a7b-4227-45aa-831d-da8e260a658d"
      },
      "outputs": [
        {
          "name": "stdout",
          "output_type": "stream",
          "text": [
            "Fitting 5 folds for each of 96 candidates, totalling 480 fits\n",
            "[CV] END C=0.1, class_weight=balanced, gamma=scale, kernel=linear; total time=   0.0s\n",
            "[CV] END C=0.1, class_weight=balanced, gamma=scale, kernel=linear; total time=   0.0s\n",
            "[CV] END C=0.1, class_weight=balanced, gamma=scale, kernel=linear; total time=   0.0s\n",
            "[CV] END C=0.1, class_weight=balanced, gamma=scale, kernel=linear; total time=   0.0s\n",
            "[CV] END C=0.1, class_weight=balanced, gamma=scale, kernel=linear; total time=   0.0s\n",
            "[CV] END C=0.1, class_weight=balanced, gamma=scale, kernel=poly; total time=   0.0s\n",
            "[CV] END C=0.1, class_weight=balanced, gamma=scale, kernel=poly; total time=   0.1s\n",
            "[CV] END C=0.1, class_weight=balanced, gamma=scale, kernel=poly; total time=   0.1s\n",
            "[CV] END C=0.1, class_weight=balanced, gamma=scale, kernel=poly; total time=   0.0s\n",
            "[CV] END C=0.1, class_weight=balanced, gamma=scale, kernel=poly; total time=   0.0s\n",
            "[CV] END C=0.1, class_weight=balanced, gamma=scale, kernel=rbf; total time=   0.1s\n",
            "[CV] END C=0.1, class_weight=balanced, gamma=scale, kernel=rbf; total time=   0.1s\n",
            "[CV] END C=0.1, class_weight=balanced, gamma=scale, kernel=rbf; total time=   0.1s\n",
            "[CV] END C=0.1, class_weight=balanced, gamma=scale, kernel=rbf; total time=   0.1s\n",
            "[CV] END C=0.1, class_weight=balanced, gamma=scale, kernel=rbf; total time=   0.1s\n",
            "[CV] END C=0.1, class_weight=balanced, gamma=scale, kernel=sigmoid; total time=   0.1s\n",
            "[CV] END C=0.1, class_weight=balanced, gamma=scale, kernel=sigmoid; total time=   0.1s\n",
            "[CV] END C=0.1, class_weight=balanced, gamma=scale, kernel=sigmoid; total time=   0.1s\n",
            "[CV] END C=0.1, class_weight=balanced, gamma=scale, kernel=sigmoid; total time=   0.1s\n",
            "[CV] END C=0.1, class_weight=balanced, gamma=scale, kernel=sigmoid; total time=   0.1s\n",
            "[CV] END C=0.1, class_weight=balanced, gamma=auto, kernel=linear; total time=   0.0s\n",
            "[CV] END C=0.1, class_weight=balanced, gamma=auto, kernel=linear; total time=   0.0s\n",
            "[CV] END C=0.1, class_weight=balanced, gamma=auto, kernel=linear; total time=   0.0s\n",
            "[CV] END C=0.1, class_weight=balanced, gamma=auto, kernel=linear; total time=   0.0s\n",
            "[CV] END C=0.1, class_weight=balanced, gamma=auto, kernel=linear; total time=   0.0s\n",
            "[CV] END C=0.1, class_weight=balanced, gamma=auto, kernel=poly; total time=   0.1s\n",
            "[CV] END C=0.1, class_weight=balanced, gamma=auto, kernel=poly; total time=   0.1s\n",
            "[CV] END C=0.1, class_weight=balanced, gamma=auto, kernel=poly; total time=   0.1s\n",
            "[CV] END C=0.1, class_weight=balanced, gamma=auto, kernel=poly; total time=   0.1s\n",
            "[CV] END C=0.1, class_weight=balanced, gamma=auto, kernel=poly; total time=   0.1s\n",
            "[CV] END C=0.1, class_weight=balanced, gamma=auto, kernel=rbf; total time=   0.1s\n",
            "[CV] END C=0.1, class_weight=balanced, gamma=auto, kernel=rbf; total time=   0.1s\n",
            "[CV] END C=0.1, class_weight=balanced, gamma=auto, kernel=rbf; total time=   0.1s\n",
            "[CV] END C=0.1, class_weight=balanced, gamma=auto, kernel=rbf; total time=   0.1s\n",
            "[CV] END C=0.1, class_weight=balanced, gamma=auto, kernel=rbf; total time=   0.1s\n",
            "[CV] END C=0.1, class_weight=balanced, gamma=auto, kernel=sigmoid; total time=   0.1s\n",
            "[CV] END C=0.1, class_weight=balanced, gamma=auto, kernel=sigmoid; total time=   0.1s\n",
            "[CV] END C=0.1, class_weight=balanced, gamma=auto, kernel=sigmoid; total time=   0.1s\n",
            "[CV] END C=0.1, class_weight=balanced, gamma=auto, kernel=sigmoid; total time=   0.1s\n",
            "[CV] END C=0.1, class_weight=balanced, gamma=auto, kernel=sigmoid; total time=   0.1s\n",
            "[CV] END C=0.1, class_weight={0: 1, 1: 2}, gamma=scale, kernel=linear; total time=   0.0s\n",
            "[CV] END C=0.1, class_weight={0: 1, 1: 2}, gamma=scale, kernel=linear; total time=   0.0s\n",
            "[CV] END C=0.1, class_weight={0: 1, 1: 2}, gamma=scale, kernel=linear; total time=   0.0s\n",
            "[CV] END C=0.1, class_weight={0: 1, 1: 2}, gamma=scale, kernel=linear; total time=   0.0s\n",
            "[CV] END C=0.1, class_weight={0: 1, 1: 2}, gamma=scale, kernel=linear; total time=   0.0s\n",
            "[CV] END C=0.1, class_weight={0: 1, 1: 2}, gamma=scale, kernel=poly; total time=   0.0s\n",
            "[CV] END C=0.1, class_weight={0: 1, 1: 2}, gamma=scale, kernel=poly; total time=   0.0s\n",
            "[CV] END C=0.1, class_weight={0: 1, 1: 2}, gamma=scale, kernel=poly; total time=   0.0s\n",
            "[CV] END C=0.1, class_weight={0: 1, 1: 2}, gamma=scale, kernel=poly; total time=   0.0s\n",
            "[CV] END C=0.1, class_weight={0: 1, 1: 2}, gamma=scale, kernel=poly; total time=   0.0s\n",
            "[CV] END C=0.1, class_weight={0: 1, 1: 2}, gamma=scale, kernel=rbf; total time=   0.1s\n",
            "[CV] END C=0.1, class_weight={0: 1, 1: 2}, gamma=scale, kernel=rbf; total time=   0.1s\n",
            "[CV] END C=0.1, class_weight={0: 1, 1: 2}, gamma=scale, kernel=rbf; total time=   0.1s\n",
            "[CV] END C=0.1, class_weight={0: 1, 1: 2}, gamma=scale, kernel=rbf; total time=   0.1s\n",
            "[CV] END C=0.1, class_weight={0: 1, 1: 2}, gamma=scale, kernel=rbf; total time=   0.1s\n",
            "[CV] END C=0.1, class_weight={0: 1, 1: 2}, gamma=scale, kernel=sigmoid; total time=   0.0s\n",
            "[CV] END C=0.1, class_weight={0: 1, 1: 2}, gamma=scale, kernel=sigmoid; total time=   0.0s\n",
            "[CV] END C=0.1, class_weight={0: 1, 1: 2}, gamma=scale, kernel=sigmoid; total time=   0.1s\n",
            "[CV] END C=0.1, class_weight={0: 1, 1: 2}, gamma=scale, kernel=sigmoid; total time=   0.0s\n",
            "[CV] END C=0.1, class_weight={0: 1, 1: 2}, gamma=scale, kernel=sigmoid; total time=   0.1s\n",
            "[CV] END C=0.1, class_weight={0: 1, 1: 2}, gamma=auto, kernel=linear; total time=   0.0s\n",
            "[CV] END C=0.1, class_weight={0: 1, 1: 2}, gamma=auto, kernel=linear; total time=   0.0s\n",
            "[CV] END C=0.1, class_weight={0: 1, 1: 2}, gamma=auto, kernel=linear; total time=   0.0s\n",
            "[CV] END C=0.1, class_weight={0: 1, 1: 2}, gamma=auto, kernel=linear; total time=   0.0s\n",
            "[CV] END C=0.1, class_weight={0: 1, 1: 2}, gamma=auto, kernel=linear; total time=   0.0s\n",
            "[CV] END C=0.1, class_weight={0: 1, 1: 2}, gamma=auto, kernel=poly; total time=   0.0s\n",
            "[CV] END C=0.1, class_weight={0: 1, 1: 2}, gamma=auto, kernel=poly; total time=   0.0s\n",
            "[CV] END C=0.1, class_weight={0: 1, 1: 2}, gamma=auto, kernel=poly; total time=   0.0s\n",
            "[CV] END C=0.1, class_weight={0: 1, 1: 2}, gamma=auto, kernel=poly; total time=   0.0s\n",
            "[CV] END C=0.1, class_weight={0: 1, 1: 2}, gamma=auto, kernel=poly; total time=   0.0s\n",
            "[CV] END C=0.1, class_weight={0: 1, 1: 2}, gamma=auto, kernel=rbf; total time=   0.0s\n",
            "[CV] END C=0.1, class_weight={0: 1, 1: 2}, gamma=auto, kernel=rbf; total time=   0.1s\n",
            "[CV] END C=0.1, class_weight={0: 1, 1: 2}, gamma=auto, kernel=rbf; total time=   0.1s\n",
            "[CV] END C=0.1, class_weight={0: 1, 1: 2}, gamma=auto, kernel=rbf; total time=   0.0s\n",
            "[CV] END C=0.1, class_weight={0: 1, 1: 2}, gamma=auto, kernel=rbf; total time=   0.1s\n",
            "[CV] END C=0.1, class_weight={0: 1, 1: 2}, gamma=auto, kernel=sigmoid; total time=   0.0s\n",
            "[CV] END C=0.1, class_weight={0: 1, 1: 2}, gamma=auto, kernel=sigmoid; total time=   0.0s\n",
            "[CV] END C=0.1, class_weight={0: 1, 1: 2}, gamma=auto, kernel=sigmoid; total time=   0.1s\n",
            "[CV] END C=0.1, class_weight={0: 1, 1: 2}, gamma=auto, kernel=sigmoid; total time=   0.0s\n",
            "[CV] END C=0.1, class_weight={0: 1, 1: 2}, gamma=auto, kernel=sigmoid; total time=   0.0s\n",
            "[CV] END C=0.1, class_weight={0: 1, 1: 10}, gamma=scale, kernel=linear; total time=   0.0s\n",
            "[CV] END C=0.1, class_weight={0: 1, 1: 10}, gamma=scale, kernel=linear; total time=   0.0s\n",
            "[CV] END C=0.1, class_weight={0: 1, 1: 10}, gamma=scale, kernel=linear; total time=   0.1s\n",
            "[CV] END C=0.1, class_weight={0: 1, 1: 10}, gamma=scale, kernel=linear; total time=   0.1s\n",
            "[CV] END C=0.1, class_weight={0: 1, 1: 10}, gamma=scale, kernel=linear; total time=   0.1s\n",
            "[CV] END C=0.1, class_weight={0: 1, 1: 10}, gamma=scale, kernel=poly; total time=   0.1s\n",
            "[CV] END C=0.1, class_weight={0: 1, 1: 10}, gamma=scale, kernel=poly; total time=   0.1s\n",
            "[CV] END C=0.1, class_weight={0: 1, 1: 10}, gamma=scale, kernel=poly; total time=   0.1s\n",
            "[CV] END C=0.1, class_weight={0: 1, 1: 10}, gamma=scale, kernel=poly; total time=   0.1s\n",
            "[CV] END C=0.1, class_weight={0: 1, 1: 10}, gamma=scale, kernel=poly; total time=   0.1s\n",
            "[CV] END C=0.1, class_weight={0: 1, 1: 10}, gamma=scale, kernel=rbf; total time=   0.1s\n",
            "[CV] END C=0.1, class_weight={0: 1, 1: 10}, gamma=scale, kernel=rbf; total time=   0.1s\n",
            "[CV] END C=0.1, class_weight={0: 1, 1: 10}, gamma=scale, kernel=rbf; total time=   0.1s\n",
            "[CV] END C=0.1, class_weight={0: 1, 1: 10}, gamma=scale, kernel=rbf; total time=   0.1s\n",
            "[CV] END C=0.1, class_weight={0: 1, 1: 10}, gamma=scale, kernel=rbf; total time=   0.1s\n",
            "[CV] END C=0.1, class_weight={0: 1, 1: 10}, gamma=scale, kernel=sigmoid; total time=   0.1s\n",
            "[CV] END C=0.1, class_weight={0: 1, 1: 10}, gamma=scale, kernel=sigmoid; total time=   0.1s\n",
            "[CV] END C=0.1, class_weight={0: 1, 1: 10}, gamma=scale, kernel=sigmoid; total time=   0.1s\n",
            "[CV] END C=0.1, class_weight={0: 1, 1: 10}, gamma=scale, kernel=sigmoid; total time=   0.1s\n",
            "[CV] END C=0.1, class_weight={0: 1, 1: 10}, gamma=scale, kernel=sigmoid; total time=   0.1s\n",
            "[CV] END C=0.1, class_weight={0: 1, 1: 10}, gamma=auto, kernel=linear; total time=   0.0s\n",
            "[CV] END C=0.1, class_weight={0: 1, 1: 10}, gamma=auto, kernel=linear; total time=   0.0s\n",
            "[CV] END C=0.1, class_weight={0: 1, 1: 10}, gamma=auto, kernel=linear; total time=   0.0s\n",
            "[CV] END C=0.1, class_weight={0: 1, 1: 10}, gamma=auto, kernel=linear; total time=   0.0s\n",
            "[CV] END C=0.1, class_weight={0: 1, 1: 10}, gamma=auto, kernel=linear; total time=   0.1s\n",
            "[CV] END C=0.1, class_weight={0: 1, 1: 10}, gamma=auto, kernel=poly; total time=   0.1s\n",
            "[CV] END C=0.1, class_weight={0: 1, 1: 10}, gamma=auto, kernel=poly; total time=   0.1s\n",
            "[CV] END C=0.1, class_weight={0: 1, 1: 10}, gamma=auto, kernel=poly; total time=   0.1s\n",
            "[CV] END C=0.1, class_weight={0: 1, 1: 10}, gamma=auto, kernel=poly; total time=   0.1s\n",
            "[CV] END C=0.1, class_weight={0: 1, 1: 10}, gamma=auto, kernel=poly; total time=   0.1s\n",
            "[CV] END C=0.1, class_weight={0: 1, 1: 10}, gamma=auto, kernel=rbf; total time=   0.1s\n",
            "[CV] END C=0.1, class_weight={0: 1, 1: 10}, gamma=auto, kernel=rbf; total time=   0.1s\n",
            "[CV] END C=0.1, class_weight={0: 1, 1: 10}, gamma=auto, kernel=rbf; total time=   0.1s\n",
            "[CV] END C=0.1, class_weight={0: 1, 1: 10}, gamma=auto, kernel=rbf; total time=   0.1s\n",
            "[CV] END C=0.1, class_weight={0: 1, 1: 10}, gamma=auto, kernel=rbf; total time=   0.1s\n",
            "[CV] END C=0.1, class_weight={0: 1, 1: 10}, gamma=auto, kernel=sigmoid; total time=   0.1s\n",
            "[CV] END C=0.1, class_weight={0: 1, 1: 10}, gamma=auto, kernel=sigmoid; total time=   0.1s\n",
            "[CV] END C=0.1, class_weight={0: 1, 1: 10}, gamma=auto, kernel=sigmoid; total time=   0.1s\n",
            "[CV] END C=0.1, class_weight={0: 1, 1: 10}, gamma=auto, kernel=sigmoid; total time=   0.1s\n",
            "[CV] END C=0.1, class_weight={0: 1, 1: 10}, gamma=auto, kernel=sigmoid; total time=   0.1s\n",
            "[CV] END C=0.01, class_weight=balanced, gamma=scale, kernel=linear; total time=   0.0s\n",
            "[CV] END C=0.01, class_weight=balanced, gamma=scale, kernel=linear; total time=   0.0s\n",
            "[CV] END C=0.01, class_weight=balanced, gamma=scale, kernel=linear; total time=   0.0s\n",
            "[CV] END C=0.01, class_weight=balanced, gamma=scale, kernel=linear; total time=   0.0s\n",
            "[CV] END C=0.01, class_weight=balanced, gamma=scale, kernel=linear; total time=   0.0s\n",
            "[CV] END C=0.01, class_weight=balanced, gamma=scale, kernel=poly; total time=   0.1s\n",
            "[CV] END C=0.01, class_weight=balanced, gamma=scale, kernel=poly; total time=   0.1s\n",
            "[CV] END C=0.01, class_weight=balanced, gamma=scale, kernel=poly; total time=   0.1s\n",
            "[CV] END C=0.01, class_weight=balanced, gamma=scale, kernel=poly; total time=   0.1s\n",
            "[CV] END C=0.01, class_weight=balanced, gamma=scale, kernel=poly; total time=   0.1s\n",
            "[CV] END C=0.01, class_weight=balanced, gamma=scale, kernel=rbf; total time=   0.1s\n",
            "[CV] END C=0.01, class_weight=balanced, gamma=scale, kernel=rbf; total time=   0.2s\n",
            "[CV] END C=0.01, class_weight=balanced, gamma=scale, kernel=rbf; total time=   0.2s\n",
            "[CV] END C=0.01, class_weight=balanced, gamma=scale, kernel=rbf; total time=   0.2s\n",
            "[CV] END C=0.01, class_weight=balanced, gamma=scale, kernel=rbf; total time=   0.1s\n",
            "[CV] END C=0.01, class_weight=balanced, gamma=scale, kernel=sigmoid; total time=   0.1s\n",
            "[CV] END C=0.01, class_weight=balanced, gamma=scale, kernel=sigmoid; total time=   0.1s\n",
            "[CV] END C=0.01, class_weight=balanced, gamma=scale, kernel=sigmoid; total time=   0.2s\n",
            "[CV] END C=0.01, class_weight=balanced, gamma=scale, kernel=sigmoid; total time=   0.2s\n",
            "[CV] END C=0.01, class_weight=balanced, gamma=scale, kernel=sigmoid; total time=   0.2s\n",
            "[CV] END C=0.01, class_weight=balanced, gamma=auto, kernel=linear; total time=   0.1s\n",
            "[CV] END C=0.01, class_weight=balanced, gamma=auto, kernel=linear; total time=   0.1s\n",
            "[CV] END C=0.01, class_weight=balanced, gamma=auto, kernel=linear; total time=   0.1s\n",
            "[CV] END C=0.01, class_weight=balanced, gamma=auto, kernel=linear; total time=   0.1s\n",
            "[CV] END C=0.01, class_weight=balanced, gamma=auto, kernel=linear; total time=   0.1s\n",
            "[CV] END C=0.01, class_weight=balanced, gamma=auto, kernel=poly; total time=   0.1s\n",
            "[CV] END C=0.01, class_weight=balanced, gamma=auto, kernel=poly; total time=   0.1s\n",
            "[CV] END C=0.01, class_weight=balanced, gamma=auto, kernel=poly; total time=   0.1s\n",
            "[CV] END C=0.01, class_weight=balanced, gamma=auto, kernel=poly; total time=   0.1s\n",
            "[CV] END C=0.01, class_weight=balanced, gamma=auto, kernel=poly; total time=   0.1s\n",
            "[CV] END C=0.01, class_weight=balanced, gamma=auto, kernel=rbf; total time=   0.1s\n",
            "[CV] END C=0.01, class_weight=balanced, gamma=auto, kernel=rbf; total time=   0.1s\n",
            "[CV] END C=0.01, class_weight=balanced, gamma=auto, kernel=rbf; total time=   0.1s\n",
            "[CV] END C=0.01, class_weight=balanced, gamma=auto, kernel=rbf; total time=   0.1s\n",
            "[CV] END C=0.01, class_weight=balanced, gamma=auto, kernel=rbf; total time=   0.1s\n",
            "[CV] END C=0.01, class_weight=balanced, gamma=auto, kernel=sigmoid; total time=   0.1s\n",
            "[CV] END C=0.01, class_weight=balanced, gamma=auto, kernel=sigmoid; total time=   0.1s\n",
            "[CV] END C=0.01, class_weight=balanced, gamma=auto, kernel=sigmoid; total time=   0.1s\n",
            "[CV] END C=0.01, class_weight=balanced, gamma=auto, kernel=sigmoid; total time=   0.1s\n",
            "[CV] END C=0.01, class_weight=balanced, gamma=auto, kernel=sigmoid; total time=   0.1s\n",
            "[CV] END C=0.01, class_weight={0: 1, 1: 2}, gamma=scale, kernel=linear; total time=   0.0s\n",
            "[CV] END C=0.01, class_weight={0: 1, 1: 2}, gamma=scale, kernel=linear; total time=   0.0s\n",
            "[CV] END C=0.01, class_weight={0: 1, 1: 2}, gamma=scale, kernel=linear; total time=   0.0s\n",
            "[CV] END C=0.01, class_weight={0: 1, 1: 2}, gamma=scale, kernel=linear; total time=   0.0s\n",
            "[CV] END C=0.01, class_weight={0: 1, 1: 2}, gamma=scale, kernel=linear; total time=   0.0s\n",
            "[CV] END C=0.01, class_weight={0: 1, 1: 2}, gamma=scale, kernel=poly; total time=   0.0s\n",
            "[CV] END C=0.01, class_weight={0: 1, 1: 2}, gamma=scale, kernel=poly; total time=   0.0s\n",
            "[CV] END C=0.01, class_weight={0: 1, 1: 2}, gamma=scale, kernel=poly; total time=   0.0s\n",
            "[CV] END C=0.01, class_weight={0: 1, 1: 2}, gamma=scale, kernel=poly; total time=   0.0s\n",
            "[CV] END C=0.01, class_weight={0: 1, 1: 2}, gamma=scale, kernel=poly; total time=   0.0s\n",
            "[CV] END C=0.01, class_weight={0: 1, 1: 2}, gamma=scale, kernel=rbf; total time=   0.1s\n",
            "[CV] END C=0.01, class_weight={0: 1, 1: 2}, gamma=scale, kernel=rbf; total time=   0.1s\n"
          ]
        },
        {
          "name": "stderr",
          "output_type": "stream",
          "text": [
            "/usr/local/lib/python3.7/dist-packages/sklearn/metrics/_classification.py:1318: UndefinedMetricWarning: Precision is ill-defined and being set to 0.0 due to no predicted samples. Use `zero_division` parameter to control this behavior.\n",
            "  _warn_prf(average, modifier, msg_start, len(result))\n",
            "/usr/local/lib/python3.7/dist-packages/sklearn/metrics/_classification.py:1318: UndefinedMetricWarning: Precision is ill-defined and being set to 0.0 due to no predicted samples. Use `zero_division` parameter to control this behavior.\n",
            "  _warn_prf(average, modifier, msg_start, len(result))\n",
            "/usr/local/lib/python3.7/dist-packages/sklearn/metrics/_classification.py:1318: UndefinedMetricWarning: Precision is ill-defined and being set to 0.0 due to no predicted samples. Use `zero_division` parameter to control this behavior.\n",
            "  _warn_prf(average, modifier, msg_start, len(result))\n",
            "/usr/local/lib/python3.7/dist-packages/sklearn/metrics/_classification.py:1318: UndefinedMetricWarning: Precision is ill-defined and being set to 0.0 due to no predicted samples. Use `zero_division` parameter to control this behavior.\n",
            "  _warn_prf(average, modifier, msg_start, len(result))\n"
          ]
        },
        {
          "name": "stdout",
          "output_type": "stream",
          "text": [
            "[CV] END C=0.01, class_weight={0: 1, 1: 2}, gamma=scale, kernel=rbf; total time=   0.1s\n",
            "[CV] END C=0.01, class_weight={0: 1, 1: 2}, gamma=scale, kernel=rbf; total time=   0.1s\n",
            "[CV] END C=0.01, class_weight={0: 1, 1: 2}, gamma=scale, kernel=rbf; total time=   0.1s\n",
            "[CV] END C=0.01, class_weight={0: 1, 1: 2}, gamma=scale, kernel=sigmoid; total time=   0.1s\n"
          ]
        },
        {
          "name": "stderr",
          "output_type": "stream",
          "text": [
            "/usr/local/lib/python3.7/dist-packages/sklearn/metrics/_classification.py:1318: UndefinedMetricWarning: Precision is ill-defined and being set to 0.0 due to no predicted samples. Use `zero_division` parameter to control this behavior.\n",
            "  _warn_prf(average, modifier, msg_start, len(result))\n",
            "/usr/local/lib/python3.7/dist-packages/sklearn/metrics/_classification.py:1318: UndefinedMetricWarning: Precision is ill-defined and being set to 0.0 due to no predicted samples. Use `zero_division` parameter to control this behavior.\n",
            "  _warn_prf(average, modifier, msg_start, len(result))\n",
            "/usr/local/lib/python3.7/dist-packages/sklearn/metrics/_classification.py:1318: UndefinedMetricWarning: Precision is ill-defined and being set to 0.0 due to no predicted samples. Use `zero_division` parameter to control this behavior.\n",
            "  _warn_prf(average, modifier, msg_start, len(result))\n",
            "/usr/local/lib/python3.7/dist-packages/sklearn/metrics/_classification.py:1318: UndefinedMetricWarning: Precision is ill-defined and being set to 0.0 due to no predicted samples. Use `zero_division` parameter to control this behavior.\n",
            "  _warn_prf(average, modifier, msg_start, len(result))\n"
          ]
        },
        {
          "name": "stdout",
          "output_type": "stream",
          "text": [
            "[CV] END C=0.01, class_weight={0: 1, 1: 2}, gamma=scale, kernel=sigmoid; total time=   0.1s\n",
            "[CV] END C=0.01, class_weight={0: 1, 1: 2}, gamma=scale, kernel=sigmoid; total time=   0.1s\n",
            "[CV] END C=0.01, class_weight={0: 1, 1: 2}, gamma=scale, kernel=sigmoid; total time=   0.1s\n",
            "[CV] END C=0.01, class_weight={0: 1, 1: 2}, gamma=scale, kernel=sigmoid; total time=   0.1s\n",
            "[CV] END C=0.01, class_weight={0: 1, 1: 2}, gamma=auto, kernel=linear; total time=   0.0s\n"
          ]
        },
        {
          "name": "stderr",
          "output_type": "stream",
          "text": [
            "/usr/local/lib/python3.7/dist-packages/sklearn/metrics/_classification.py:1318: UndefinedMetricWarning: Precision is ill-defined and being set to 0.0 due to no predicted samples. Use `zero_division` parameter to control this behavior.\n",
            "  _warn_prf(average, modifier, msg_start, len(result))\n",
            "/usr/local/lib/python3.7/dist-packages/sklearn/metrics/_classification.py:1318: UndefinedMetricWarning: Precision is ill-defined and being set to 0.0 due to no predicted samples. Use `zero_division` parameter to control this behavior.\n",
            "  _warn_prf(average, modifier, msg_start, len(result))\n"
          ]
        },
        {
          "name": "stdout",
          "output_type": "stream",
          "text": [
            "[CV] END C=0.01, class_weight={0: 1, 1: 2}, gamma=auto, kernel=linear; total time=   0.0s\n",
            "[CV] END C=0.01, class_weight={0: 1, 1: 2}, gamma=auto, kernel=linear; total time=   0.0s\n",
            "[CV] END C=0.01, class_weight={0: 1, 1: 2}, gamma=auto, kernel=linear; total time=   0.0s\n",
            "[CV] END C=0.01, class_weight={0: 1, 1: 2}, gamma=auto, kernel=linear; total time=   0.0s\n",
            "[CV] END C=0.01, class_weight={0: 1, 1: 2}, gamma=auto, kernel=poly; total time=   0.0s\n",
            "[CV] END C=0.01, class_weight={0: 1, 1: 2}, gamma=auto, kernel=poly; total time=   0.0s\n",
            "[CV] END C=0.01, class_weight={0: 1, 1: 2}, gamma=auto, kernel=poly; total time=   0.0s\n",
            "[CV] END C=0.01, class_weight={0: 1, 1: 2}, gamma=auto, kernel=poly; total time=   0.0s\n"
          ]
        },
        {
          "name": "stderr",
          "output_type": "stream",
          "text": [
            "/usr/local/lib/python3.7/dist-packages/sklearn/metrics/_classification.py:1318: UndefinedMetricWarning: Precision is ill-defined and being set to 0.0 due to no predicted samples. Use `zero_division` parameter to control this behavior.\n",
            "  _warn_prf(average, modifier, msg_start, len(result))\n",
            "/usr/local/lib/python3.7/dist-packages/sklearn/metrics/_classification.py:1318: UndefinedMetricWarning: Precision is ill-defined and being set to 0.0 due to no predicted samples. Use `zero_division` parameter to control this behavior.\n",
            "  _warn_prf(average, modifier, msg_start, len(result))\n",
            "/usr/local/lib/python3.7/dist-packages/sklearn/metrics/_classification.py:1318: UndefinedMetricWarning: Precision is ill-defined and being set to 0.0 due to no predicted samples. Use `zero_division` parameter to control this behavior.\n",
            "  _warn_prf(average, modifier, msg_start, len(result))\n"
          ]
        },
        {
          "name": "stdout",
          "output_type": "stream",
          "text": [
            "[CV] END C=0.01, class_weight={0: 1, 1: 2}, gamma=auto, kernel=poly; total time=   0.0s\n",
            "[CV] END C=0.01, class_weight={0: 1, 1: 2}, gamma=auto, kernel=rbf; total time=   0.1s\n",
            "[CV] END C=0.01, class_weight={0: 1, 1: 2}, gamma=auto, kernel=rbf; total time=   0.1s\n",
            "[CV] END C=0.01, class_weight={0: 1, 1: 2}, gamma=auto, kernel=rbf; total time=   0.1s\n"
          ]
        },
        {
          "name": "stderr",
          "output_type": "stream",
          "text": [
            "/usr/local/lib/python3.7/dist-packages/sklearn/metrics/_classification.py:1318: UndefinedMetricWarning: Precision is ill-defined and being set to 0.0 due to no predicted samples. Use `zero_division` parameter to control this behavior.\n",
            "  _warn_prf(average, modifier, msg_start, len(result))\n",
            "/usr/local/lib/python3.7/dist-packages/sklearn/metrics/_classification.py:1318: UndefinedMetricWarning: Precision is ill-defined and being set to 0.0 due to no predicted samples. Use `zero_division` parameter to control this behavior.\n",
            "  _warn_prf(average, modifier, msg_start, len(result))\n",
            "/usr/local/lib/python3.7/dist-packages/sklearn/metrics/_classification.py:1318: UndefinedMetricWarning: Precision is ill-defined and being set to 0.0 due to no predicted samples. Use `zero_division` parameter to control this behavior.\n",
            "  _warn_prf(average, modifier, msg_start, len(result))\n",
            "/usr/local/lib/python3.7/dist-packages/sklearn/metrics/_classification.py:1318: UndefinedMetricWarning: Precision is ill-defined and being set to 0.0 due to no predicted samples. Use `zero_division` parameter to control this behavior.\n",
            "  _warn_prf(average, modifier, msg_start, len(result))\n"
          ]
        },
        {
          "name": "stdout",
          "output_type": "stream",
          "text": [
            "[CV] END C=0.01, class_weight={0: 1, 1: 2}, gamma=auto, kernel=rbf; total time=   0.1s\n",
            "[CV] END C=0.01, class_weight={0: 1, 1: 2}, gamma=auto, kernel=rbf; total time=   0.1s\n",
            "[CV] END C=0.01, class_weight={0: 1, 1: 2}, gamma=auto, kernel=sigmoid; total time=   0.1s\n",
            "[CV] END C=0.01, class_weight={0: 1, 1: 2}, gamma=auto, kernel=sigmoid; total time=   0.1s\n"
          ]
        },
        {
          "name": "stderr",
          "output_type": "stream",
          "text": [
            "/usr/local/lib/python3.7/dist-packages/sklearn/metrics/_classification.py:1318: UndefinedMetricWarning: Precision is ill-defined and being set to 0.0 due to no predicted samples. Use `zero_division` parameter to control this behavior.\n",
            "  _warn_prf(average, modifier, msg_start, len(result))\n",
            "/usr/local/lib/python3.7/dist-packages/sklearn/metrics/_classification.py:1318: UndefinedMetricWarning: Precision is ill-defined and being set to 0.0 due to no predicted samples. Use `zero_division` parameter to control this behavior.\n",
            "  _warn_prf(average, modifier, msg_start, len(result))\n",
            "/usr/local/lib/python3.7/dist-packages/sklearn/metrics/_classification.py:1318: UndefinedMetricWarning: Precision is ill-defined and being set to 0.0 due to no predicted samples. Use `zero_division` parameter to control this behavior.\n",
            "  _warn_prf(average, modifier, msg_start, len(result))\n",
            "/usr/local/lib/python3.7/dist-packages/sklearn/metrics/_classification.py:1318: UndefinedMetricWarning: Precision is ill-defined and being set to 0.0 due to no predicted samples. Use `zero_division` parameter to control this behavior.\n",
            "  _warn_prf(average, modifier, msg_start, len(result))\n"
          ]
        },
        {
          "name": "stdout",
          "output_type": "stream",
          "text": [
            "[CV] END C=0.01, class_weight={0: 1, 1: 2}, gamma=auto, kernel=sigmoid; total time=   0.1s\n",
            "[CV] END C=0.01, class_weight={0: 1, 1: 2}, gamma=auto, kernel=sigmoid; total time=   0.0s\n",
            "[CV] END C=0.01, class_weight={0: 1, 1: 2}, gamma=auto, kernel=sigmoid; total time=   0.1s\n",
            "[CV] END C=0.01, class_weight={0: 1, 1: 10}, gamma=scale, kernel=linear; total time=   0.0s\n",
            "[CV] END C=0.01, class_weight={0: 1, 1: 10}, gamma=scale, kernel=linear; total time=   0.0s\n",
            "[CV] END C=0.01, class_weight={0: 1, 1: 10}, gamma=scale, kernel=linear; total time=   0.0s\n",
            "[CV] END C=0.01, class_weight={0: 1, 1: 10}, gamma=scale, kernel=linear; total time=   0.0s\n",
            "[CV] END C=0.01, class_weight={0: 1, 1: 10}, gamma=scale, kernel=linear; total time=   0.0s\n",
            "[CV] END C=0.01, class_weight={0: 1, 1: 10}, gamma=scale, kernel=poly; total time=   0.1s\n",
            "[CV] END C=0.01, class_weight={0: 1, 1: 10}, gamma=scale, kernel=poly; total time=   0.1s\n",
            "[CV] END C=0.01, class_weight={0: 1, 1: 10}, gamma=scale, kernel=poly; total time=   0.1s\n",
            "[CV] END C=0.01, class_weight={0: 1, 1: 10}, gamma=scale, kernel=poly; total time=   0.1s\n",
            "[CV] END C=0.01, class_weight={0: 1, 1: 10}, gamma=scale, kernel=poly; total time=   0.1s\n",
            "[CV] END C=0.01, class_weight={0: 1, 1: 10}, gamma=scale, kernel=rbf; total time=   0.2s\n",
            "[CV] END C=0.01, class_weight={0: 1, 1: 10}, gamma=scale, kernel=rbf; total time=   0.2s\n",
            "[CV] END C=0.01, class_weight={0: 1, 1: 10}, gamma=scale, kernel=rbf; total time=   0.2s\n",
            "[CV] END C=0.01, class_weight={0: 1, 1: 10}, gamma=scale, kernel=rbf; total time=   0.2s\n",
            "[CV] END C=0.01, class_weight={0: 1, 1: 10}, gamma=scale, kernel=rbf; total time=   0.1s\n",
            "[CV] END C=0.01, class_weight={0: 1, 1: 10}, gamma=scale, kernel=sigmoid; total time=   0.1s\n",
            "[CV] END C=0.01, class_weight={0: 1, 1: 10}, gamma=scale, kernel=sigmoid; total time=   0.2s\n",
            "[CV] END C=0.01, class_weight={0: 1, 1: 10}, gamma=scale, kernel=sigmoid; total time=   0.2s\n",
            "[CV] END C=0.01, class_weight={0: 1, 1: 10}, gamma=scale, kernel=sigmoid; total time=   0.2s\n",
            "[CV] END C=0.01, class_weight={0: 1, 1: 10}, gamma=scale, kernel=sigmoid; total time=   0.2s\n",
            "[CV] END C=0.01, class_weight={0: 1, 1: 10}, gamma=auto, kernel=linear; total time=   0.0s\n",
            "[CV] END C=0.01, class_weight={0: 1, 1: 10}, gamma=auto, kernel=linear; total time=   0.0s\n",
            "[CV] END C=0.01, class_weight={0: 1, 1: 10}, gamma=auto, kernel=linear; total time=   0.0s\n",
            "[CV] END C=0.01, class_weight={0: 1, 1: 10}, gamma=auto, kernel=linear; total time=   0.0s\n",
            "[CV] END C=0.01, class_weight={0: 1, 1: 10}, gamma=auto, kernel=linear; total time=   0.0s\n",
            "[CV] END C=0.01, class_weight={0: 1, 1: 10}, gamma=auto, kernel=poly; total time=   0.1s\n",
            "[CV] END C=0.01, class_weight={0: 1, 1: 10}, gamma=auto, kernel=poly; total time=   0.1s\n",
            "[CV] END C=0.01, class_weight={0: 1, 1: 10}, gamma=auto, kernel=poly; total time=   0.1s\n",
            "[CV] END C=0.01, class_weight={0: 1, 1: 10}, gamma=auto, kernel=poly; total time=   0.1s\n",
            "[CV] END C=0.01, class_weight={0: 1, 1: 10}, gamma=auto, kernel=poly; total time=   0.1s\n",
            "[CV] END C=0.01, class_weight={0: 1, 1: 10}, gamma=auto, kernel=rbf; total time=   0.1s\n",
            "[CV] END C=0.01, class_weight={0: 1, 1: 10}, gamma=auto, kernel=rbf; total time=   0.1s\n",
            "[CV] END C=0.01, class_weight={0: 1, 1: 10}, gamma=auto, kernel=rbf; total time=   0.1s\n",
            "[CV] END C=0.01, class_weight={0: 1, 1: 10}, gamma=auto, kernel=rbf; total time=   0.1s\n",
            "[CV] END C=0.01, class_weight={0: 1, 1: 10}, gamma=auto, kernel=rbf; total time=   0.1s\n",
            "[CV] END C=0.01, class_weight={0: 1, 1: 10}, gamma=auto, kernel=sigmoid; total time=   0.1s\n",
            "[CV] END C=0.01, class_weight={0: 1, 1: 10}, gamma=auto, kernel=sigmoid; total time=   0.1s\n",
            "[CV] END C=0.01, class_weight={0: 1, 1: 10}, gamma=auto, kernel=sigmoid; total time=   0.1s\n",
            "[CV] END C=0.01, class_weight={0: 1, 1: 10}, gamma=auto, kernel=sigmoid; total time=   0.1s\n",
            "[CV] END C=0.01, class_weight={0: 1, 1: 10}, gamma=auto, kernel=sigmoid; total time=   0.1s\n",
            "[CV] END C=0.05, class_weight=balanced, gamma=scale, kernel=linear; total time=   0.0s\n",
            "[CV] END C=0.05, class_weight=balanced, gamma=scale, kernel=linear; total time=   0.0s\n",
            "[CV] END C=0.05, class_weight=balanced, gamma=scale, kernel=linear; total time=   0.0s\n",
            "[CV] END C=0.05, class_weight=balanced, gamma=scale, kernel=linear; total time=   0.0s\n",
            "[CV] END C=0.05, class_weight=balanced, gamma=scale, kernel=linear; total time=   0.0s\n",
            "[CV] END C=0.05, class_weight=balanced, gamma=scale, kernel=poly; total time=   0.0s\n",
            "[CV] END C=0.05, class_weight=balanced, gamma=scale, kernel=poly; total time=   0.0s\n",
            "[CV] END C=0.05, class_weight=balanced, gamma=scale, kernel=poly; total time=   0.0s\n",
            "[CV] END C=0.05, class_weight=balanced, gamma=scale, kernel=poly; total time=   0.0s\n",
            "[CV] END C=0.05, class_weight=balanced, gamma=scale, kernel=poly; total time=   0.1s\n",
            "[CV] END C=0.05, class_weight=balanced, gamma=scale, kernel=rbf; total time=   0.1s\n",
            "[CV] END C=0.05, class_weight=balanced, gamma=scale, kernel=rbf; total time=   0.1s\n",
            "[CV] END C=0.05, class_weight=balanced, gamma=scale, kernel=rbf; total time=   0.1s\n",
            "[CV] END C=0.05, class_weight=balanced, gamma=scale, kernel=rbf; total time=   0.1s\n",
            "[CV] END C=0.05, class_weight=balanced, gamma=scale, kernel=rbf; total time=   0.1s\n",
            "[CV] END C=0.05, class_weight=balanced, gamma=scale, kernel=sigmoid; total time=   0.1s\n",
            "[CV] END C=0.05, class_weight=balanced, gamma=scale, kernel=sigmoid; total time=   0.1s\n",
            "[CV] END C=0.05, class_weight=balanced, gamma=scale, kernel=sigmoid; total time=   0.1s\n",
            "[CV] END C=0.05, class_weight=balanced, gamma=scale, kernel=sigmoid; total time=   0.1s\n",
            "[CV] END C=0.05, class_weight=balanced, gamma=scale, kernel=sigmoid; total time=   0.1s\n",
            "[CV] END C=0.05, class_weight=balanced, gamma=auto, kernel=linear; total time=   0.0s\n",
            "[CV] END C=0.05, class_weight=balanced, gamma=auto, kernel=linear; total time=   0.0s\n",
            "[CV] END C=0.05, class_weight=balanced, gamma=auto, kernel=linear; total time=   0.0s\n",
            "[CV] END C=0.05, class_weight=balanced, gamma=auto, kernel=linear; total time=   0.0s\n",
            "[CV] END C=0.05, class_weight=balanced, gamma=auto, kernel=linear; total time=   0.0s\n",
            "[CV] END C=0.05, class_weight=balanced, gamma=auto, kernel=poly; total time=   0.1s\n",
            "[CV] END C=0.05, class_weight=balanced, gamma=auto, kernel=poly; total time=   0.1s\n",
            "[CV] END C=0.05, class_weight=balanced, gamma=auto, kernel=poly; total time=   0.1s\n",
            "[CV] END C=0.05, class_weight=balanced, gamma=auto, kernel=poly; total time=   0.1s\n",
            "[CV] END C=0.05, class_weight=balanced, gamma=auto, kernel=poly; total time=   0.1s\n",
            "[CV] END C=0.05, class_weight=balanced, gamma=auto, kernel=rbf; total time=   0.1s\n",
            "[CV] END C=0.05, class_weight=balanced, gamma=auto, kernel=rbf; total time=   0.1s\n",
            "[CV] END C=0.05, class_weight=balanced, gamma=auto, kernel=rbf; total time=   0.1s\n",
            "[CV] END C=0.05, class_weight=balanced, gamma=auto, kernel=rbf; total time=   0.1s\n",
            "[CV] END C=0.05, class_weight=balanced, gamma=auto, kernel=rbf; total time=   0.1s\n",
            "[CV] END C=0.05, class_weight=balanced, gamma=auto, kernel=sigmoid; total time=   0.1s\n",
            "[CV] END C=0.05, class_weight=balanced, gamma=auto, kernel=sigmoid; total time=   0.1s\n",
            "[CV] END C=0.05, class_weight=balanced, gamma=auto, kernel=sigmoid; total time=   0.1s\n",
            "[CV] END C=0.05, class_weight=balanced, gamma=auto, kernel=sigmoid; total time=   0.1s\n",
            "[CV] END C=0.05, class_weight=balanced, gamma=auto, kernel=sigmoid; total time=   0.1s\n",
            "[CV] END C=0.05, class_weight={0: 1, 1: 2}, gamma=scale, kernel=linear; total time=   0.0s\n",
            "[CV] END C=0.05, class_weight={0: 1, 1: 2}, gamma=scale, kernel=linear; total time=   0.0s\n",
            "[CV] END C=0.05, class_weight={0: 1, 1: 2}, gamma=scale, kernel=linear; total time=   0.0s\n",
            "[CV] END C=0.05, class_weight={0: 1, 1: 2}, gamma=scale, kernel=linear; total time=   0.0s\n",
            "[CV] END C=0.05, class_weight={0: 1, 1: 2}, gamma=scale, kernel=linear; total time=   0.0s\n",
            "[CV] END C=0.05, class_weight={0: 1, 1: 2}, gamma=scale, kernel=poly; total time=   0.0s\n",
            "[CV] END C=0.05, class_weight={0: 1, 1: 2}, gamma=scale, kernel=poly; total time=   0.0s\n",
            "[CV] END C=0.05, class_weight={0: 1, 1: 2}, gamma=scale, kernel=poly; total time=   0.0s\n",
            "[CV] END C=0.05, class_weight={0: 1, 1: 2}, gamma=scale, kernel=poly; total time=   0.0s\n",
            "[CV] END C=0.05, class_weight={0: 1, 1: 2}, gamma=scale, kernel=poly; total time=   0.0s\n",
            "[CV] END C=0.05, class_weight={0: 1, 1: 2}, gamma=scale, kernel=rbf; total time=   0.1s\n",
            "[CV] END C=0.05, class_weight={0: 1, 1: 2}, gamma=scale, kernel=rbf; total time=   0.1s\n",
            "[CV] END C=0.05, class_weight={0: 1, 1: 2}, gamma=scale, kernel=rbf; total time=   0.1s\n",
            "[CV] END C=0.05, class_weight={0: 1, 1: 2}, gamma=scale, kernel=rbf; total time=   0.1s\n",
            "[CV] END C=0.05, class_weight={0: 1, 1: 2}, gamma=scale, kernel=rbf; total time=   0.1s\n",
            "[CV] END C=0.05, class_weight={0: 1, 1: 2}, gamma=scale, kernel=sigmoid; total time=   0.1s\n",
            "[CV] END C=0.05, class_weight={0: 1, 1: 2}, gamma=scale, kernel=sigmoid; total time=   0.1s\n",
            "[CV] END C=0.05, class_weight={0: 1, 1: 2}, gamma=scale, kernel=sigmoid; total time=   0.1s\n",
            "[CV] END C=0.05, class_weight={0: 1, 1: 2}, gamma=scale, kernel=sigmoid; total time=   0.1s\n",
            "[CV] END C=0.05, class_weight={0: 1, 1: 2}, gamma=scale, kernel=sigmoid; total time=   0.1s\n",
            "[CV] END C=0.05, class_weight={0: 1, 1: 2}, gamma=auto, kernel=linear; total time=   0.0s\n",
            "[CV] END C=0.05, class_weight={0: 1, 1: 2}, gamma=auto, kernel=linear; total time=   0.0s\n",
            "[CV] END C=0.05, class_weight={0: 1, 1: 2}, gamma=auto, kernel=linear; total time=   0.0s\n",
            "[CV] END C=0.05, class_weight={0: 1, 1: 2}, gamma=auto, kernel=linear; total time=   0.0s\n",
            "[CV] END C=0.05, class_weight={0: 1, 1: 2}, gamma=auto, kernel=linear; total time=   0.0s\n",
            "[CV] END C=0.05, class_weight={0: 1, 1: 2}, gamma=auto, kernel=poly; total time=   0.0s\n",
            "[CV] END C=0.05, class_weight={0: 1, 1: 2}, gamma=auto, kernel=poly; total time=   0.0s\n",
            "[CV] END C=0.05, class_weight={0: 1, 1: 2}, gamma=auto, kernel=poly; total time=   0.0s\n",
            "[CV] END C=0.05, class_weight={0: 1, 1: 2}, gamma=auto, kernel=poly; total time=   0.0s\n",
            "[CV] END C=0.05, class_weight={0: 1, 1: 2}, gamma=auto, kernel=poly; total time=   0.0s\n",
            "[CV] END C=0.05, class_weight={0: 1, 1: 2}, gamma=auto, kernel=rbf; total time=   0.1s\n",
            "[CV] END C=0.05, class_weight={0: 1, 1: 2}, gamma=auto, kernel=rbf; total time=   0.1s\n",
            "[CV] END C=0.05, class_weight={0: 1, 1: 2}, gamma=auto, kernel=rbf; total time=   0.1s\n",
            "[CV] END C=0.05, class_weight={0: 1, 1: 2}, gamma=auto, kernel=rbf; total time=   0.1s\n",
            "[CV] END C=0.05, class_weight={0: 1, 1: 2}, gamma=auto, kernel=rbf; total time=   0.1s\n",
            "[CV] END C=0.05, class_weight={0: 1, 1: 2}, gamma=auto, kernel=sigmoid; total time=   0.0s\n",
            "[CV] END C=0.05, class_weight={0: 1, 1: 2}, gamma=auto, kernel=sigmoid; total time=   0.1s\n",
            "[CV] END C=0.05, class_weight={0: 1, 1: 2}, gamma=auto, kernel=sigmoid; total time=   0.0s\n",
            "[CV] END C=0.05, class_weight={0: 1, 1: 2}, gamma=auto, kernel=sigmoid; total time=   0.0s\n",
            "[CV] END C=0.05, class_weight={0: 1, 1: 2}, gamma=auto, kernel=sigmoid; total time=   0.1s\n",
            "[CV] END C=0.05, class_weight={0: 1, 1: 10}, gamma=scale, kernel=linear; total time=   0.0s\n",
            "[CV] END C=0.05, class_weight={0: 1, 1: 10}, gamma=scale, kernel=linear; total time=   0.0s\n",
            "[CV] END C=0.05, class_weight={0: 1, 1: 10}, gamma=scale, kernel=linear; total time=   0.0s\n",
            "[CV] END C=0.05, class_weight={0: 1, 1: 10}, gamma=scale, kernel=linear; total time=   0.0s\n",
            "[CV] END C=0.05, class_weight={0: 1, 1: 10}, gamma=scale, kernel=linear; total time=   0.0s\n",
            "[CV] END C=0.05, class_weight={0: 1, 1: 10}, gamma=scale, kernel=poly; total time=   0.1s\n",
            "[CV] END C=0.05, class_weight={0: 1, 1: 10}, gamma=scale, kernel=poly; total time=   0.1s\n",
            "[CV] END C=0.05, class_weight={0: 1, 1: 10}, gamma=scale, kernel=poly; total time=   0.1s\n",
            "[CV] END C=0.05, class_weight={0: 1, 1: 10}, gamma=scale, kernel=poly; total time=   0.1s\n",
            "[CV] END C=0.05, class_weight={0: 1, 1: 10}, gamma=scale, kernel=poly; total time=   0.1s\n",
            "[CV] END C=0.05, class_weight={0: 1, 1: 10}, gamma=scale, kernel=rbf; total time=   0.1s\n",
            "[CV] END C=0.05, class_weight={0: 1, 1: 10}, gamma=scale, kernel=rbf; total time=   0.1s\n",
            "[CV] END C=0.05, class_weight={0: 1, 1: 10}, gamma=scale, kernel=rbf; total time=   0.1s\n",
            "[CV] END C=0.05, class_weight={0: 1, 1: 10}, gamma=scale, kernel=rbf; total time=   0.1s\n",
            "[CV] END C=0.05, class_weight={0: 1, 1: 10}, gamma=scale, kernel=rbf; total time=   0.1s\n",
            "[CV] END C=0.05, class_weight={0: 1, 1: 10}, gamma=scale, kernel=sigmoid; total time=   0.1s\n",
            "[CV] END C=0.05, class_weight={0: 1, 1: 10}, gamma=scale, kernel=sigmoid; total time=   0.1s\n",
            "[CV] END C=0.05, class_weight={0: 1, 1: 10}, gamma=scale, kernel=sigmoid; total time=   0.1s\n",
            "[CV] END C=0.05, class_weight={0: 1, 1: 10}, gamma=scale, kernel=sigmoid; total time=   0.1s\n",
            "[CV] END C=0.05, class_weight={0: 1, 1: 10}, gamma=scale, kernel=sigmoid; total time=   0.1s\n",
            "[CV] END C=0.05, class_weight={0: 1, 1: 10}, gamma=auto, kernel=linear; total time=   0.0s\n",
            "[CV] END C=0.05, class_weight={0: 1, 1: 10}, gamma=auto, kernel=linear; total time=   0.0s\n",
            "[CV] END C=0.05, class_weight={0: 1, 1: 10}, gamma=auto, kernel=linear; total time=   0.0s\n",
            "[CV] END C=0.05, class_weight={0: 1, 1: 10}, gamma=auto, kernel=linear; total time=   0.0s\n",
            "[CV] END C=0.05, class_weight={0: 1, 1: 10}, gamma=auto, kernel=linear; total time=   0.1s\n",
            "[CV] END C=0.05, class_weight={0: 1, 1: 10}, gamma=auto, kernel=poly; total time=   0.1s\n",
            "[CV] END C=0.05, class_weight={0: 1, 1: 10}, gamma=auto, kernel=poly; total time=   0.1s\n",
            "[CV] END C=0.05, class_weight={0: 1, 1: 10}, gamma=auto, kernel=poly; total time=   0.1s\n",
            "[CV] END C=0.05, class_weight={0: 1, 1: 10}, gamma=auto, kernel=poly; total time=   0.1s\n",
            "[CV] END C=0.05, class_weight={0: 1, 1: 10}, gamma=auto, kernel=poly; total time=   0.1s\n",
            "[CV] END C=0.05, class_weight={0: 1, 1: 10}, gamma=auto, kernel=rbf; total time=   0.1s\n",
            "[CV] END C=0.05, class_weight={0: 1, 1: 10}, gamma=auto, kernel=rbf; total time=   0.1s\n",
            "[CV] END C=0.05, class_weight={0: 1, 1: 10}, gamma=auto, kernel=rbf; total time=   0.1s\n",
            "[CV] END C=0.05, class_weight={0: 1, 1: 10}, gamma=auto, kernel=rbf; total time=   0.1s\n",
            "[CV] END C=0.05, class_weight={0: 1, 1: 10}, gamma=auto, kernel=rbf; total time=   0.1s\n",
            "[CV] END C=0.05, class_weight={0: 1, 1: 10}, gamma=auto, kernel=sigmoid; total time=   0.1s\n",
            "[CV] END C=0.05, class_weight={0: 1, 1: 10}, gamma=auto, kernel=sigmoid; total time=   0.1s\n",
            "[CV] END C=0.05, class_weight={0: 1, 1: 10}, gamma=auto, kernel=sigmoid; total time=   0.1s\n",
            "[CV] END C=0.05, class_weight={0: 1, 1: 10}, gamma=auto, kernel=sigmoid; total time=   0.1s\n",
            "[CV] END C=0.05, class_weight={0: 1, 1: 10}, gamma=auto, kernel=sigmoid; total time=   0.1s\n",
            "[CV] END C=0.5, class_weight=balanced, gamma=scale, kernel=linear; total time=   0.0s\n",
            "[CV] END C=0.5, class_weight=balanced, gamma=scale, kernel=linear; total time=   0.0s\n",
            "[CV] END C=0.5, class_weight=balanced, gamma=scale, kernel=linear; total time=   0.0s\n",
            "[CV] END C=0.5, class_weight=balanced, gamma=scale, kernel=linear; total time=   0.0s\n",
            "[CV] END C=0.5, class_weight=balanced, gamma=scale, kernel=linear; total time=   0.0s\n",
            "[CV] END C=0.5, class_weight=balanced, gamma=scale, kernel=poly; total time=   0.1s\n",
            "[CV] END C=0.5, class_weight=balanced, gamma=scale, kernel=poly; total time=   0.1s\n",
            "[CV] END C=0.5, class_weight=balanced, gamma=scale, kernel=poly; total time=   0.0s\n",
            "[CV] END C=0.5, class_weight=balanced, gamma=scale, kernel=poly; total time=   0.0s\n",
            "[CV] END C=0.5, class_weight=balanced, gamma=scale, kernel=poly; total time=   0.0s\n",
            "[CV] END C=0.5, class_weight=balanced, gamma=scale, kernel=rbf; total time=   0.1s\n",
            "[CV] END C=0.5, class_weight=balanced, gamma=scale, kernel=rbf; total time=   0.1s\n",
            "[CV] END C=0.5, class_weight=balanced, gamma=scale, kernel=rbf; total time=   0.1s\n",
            "[CV] END C=0.5, class_weight=balanced, gamma=scale, kernel=rbf; total time=   0.1s\n",
            "[CV] END C=0.5, class_weight=balanced, gamma=scale, kernel=rbf; total time=   0.1s\n",
            "[CV] END C=0.5, class_weight=balanced, gamma=scale, kernel=sigmoid; total time=   0.1s\n",
            "[CV] END C=0.5, class_weight=balanced, gamma=scale, kernel=sigmoid; total time=   0.1s\n",
            "[CV] END C=0.5, class_weight=balanced, gamma=scale, kernel=sigmoid; total time=   0.1s\n",
            "[CV] END C=0.5, class_weight=balanced, gamma=scale, kernel=sigmoid; total time=   0.1s\n",
            "[CV] END C=0.5, class_weight=balanced, gamma=scale, kernel=sigmoid; total time=   0.1s\n",
            "[CV] END C=0.5, class_weight=balanced, gamma=auto, kernel=linear; total time=   0.0s\n",
            "[CV] END C=0.5, class_weight=balanced, gamma=auto, kernel=linear; total time=   0.1s\n",
            "[CV] END C=0.5, class_weight=balanced, gamma=auto, kernel=linear; total time=   0.0s\n",
            "[CV] END C=0.5, class_weight=balanced, gamma=auto, kernel=linear; total time=   0.0s\n",
            "[CV] END C=0.5, class_weight=balanced, gamma=auto, kernel=linear; total time=   0.0s\n",
            "[CV] END C=0.5, class_weight=balanced, gamma=auto, kernel=poly; total time=   0.1s\n",
            "[CV] END C=0.5, class_weight=balanced, gamma=auto, kernel=poly; total time=   0.1s\n",
            "[CV] END C=0.5, class_weight=balanced, gamma=auto, kernel=poly; total time=   0.1s\n",
            "[CV] END C=0.5, class_weight=balanced, gamma=auto, kernel=poly; total time=   0.1s\n",
            "[CV] END C=0.5, class_weight=balanced, gamma=auto, kernel=poly; total time=   0.1s\n",
            "[CV] END C=0.5, class_weight=balanced, gamma=auto, kernel=rbf; total time=   0.1s\n",
            "[CV] END C=0.5, class_weight=balanced, gamma=auto, kernel=rbf; total time=   0.1s\n",
            "[CV] END C=0.5, class_weight=balanced, gamma=auto, kernel=rbf; total time=   0.1s\n",
            "[CV] END C=0.5, class_weight=balanced, gamma=auto, kernel=rbf; total time=   0.1s\n",
            "[CV] END C=0.5, class_weight=balanced, gamma=auto, kernel=rbf; total time=   0.1s\n",
            "[CV] END C=0.5, class_weight=balanced, gamma=auto, kernel=sigmoid; total time=   0.1s\n",
            "[CV] END C=0.5, class_weight=balanced, gamma=auto, kernel=sigmoid; total time=   0.1s\n",
            "[CV] END C=0.5, class_weight=balanced, gamma=auto, kernel=sigmoid; total time=   0.1s\n",
            "[CV] END C=0.5, class_weight=balanced, gamma=auto, kernel=sigmoid; total time=   0.1s\n",
            "[CV] END C=0.5, class_weight=balanced, gamma=auto, kernel=sigmoid; total time=   0.1s\n",
            "[CV] END C=0.5, class_weight={0: 1, 1: 2}, gamma=scale, kernel=linear; total time=   0.0s\n",
            "[CV] END C=0.5, class_weight={0: 1, 1: 2}, gamma=scale, kernel=linear; total time=   0.0s\n",
            "[CV] END C=0.5, class_weight={0: 1, 1: 2}, gamma=scale, kernel=linear; total time=   0.0s\n",
            "[CV] END C=0.5, class_weight={0: 1, 1: 2}, gamma=scale, kernel=linear; total time=   0.0s\n",
            "[CV] END C=0.5, class_weight={0: 1, 1: 2}, gamma=scale, kernel=linear; total time=   0.0s\n",
            "[CV] END C=0.5, class_weight={0: 1, 1: 2}, gamma=scale, kernel=poly; total time=   0.0s\n",
            "[CV] END C=0.5, class_weight={0: 1, 1: 2}, gamma=scale, kernel=poly; total time=   0.0s\n",
            "[CV] END C=0.5, class_weight={0: 1, 1: 2}, gamma=scale, kernel=poly; total time=   0.0s\n",
            "[CV] END C=0.5, class_weight={0: 1, 1: 2}, gamma=scale, kernel=poly; total time=   0.0s\n",
            "[CV] END C=0.5, class_weight={0: 1, 1: 2}, gamma=scale, kernel=poly; total time=   0.0s\n",
            "[CV] END C=0.5, class_weight={0: 1, 1: 2}, gamma=scale, kernel=rbf; total time=   0.1s\n",
            "[CV] END C=0.5, class_weight={0: 1, 1: 2}, gamma=scale, kernel=rbf; total time=   0.1s\n",
            "[CV] END C=0.5, class_weight={0: 1, 1: 2}, gamma=scale, kernel=rbf; total time=   0.1s\n",
            "[CV] END C=0.5, class_weight={0: 1, 1: 2}, gamma=scale, kernel=rbf; total time=   0.1s\n",
            "[CV] END C=0.5, class_weight={0: 1, 1: 2}, gamma=scale, kernel=rbf; total time=   0.1s\n",
            "[CV] END C=0.5, class_weight={0: 1, 1: 2}, gamma=scale, kernel=sigmoid; total time=   0.0s\n",
            "[CV] END C=0.5, class_weight={0: 1, 1: 2}, gamma=scale, kernel=sigmoid; total time=   0.0s\n",
            "[CV] END C=0.5, class_weight={0: 1, 1: 2}, gamma=scale, kernel=sigmoid; total time=   0.0s\n",
            "[CV] END C=0.5, class_weight={0: 1, 1: 2}, gamma=scale, kernel=sigmoid; total time=   0.0s\n",
            "[CV] END C=0.5, class_weight={0: 1, 1: 2}, gamma=scale, kernel=sigmoid; total time=   0.0s\n",
            "[CV] END C=0.5, class_weight={0: 1, 1: 2}, gamma=auto, kernel=linear; total time=   0.0s\n",
            "[CV] END C=0.5, class_weight={0: 1, 1: 2}, gamma=auto, kernel=linear; total time=   0.0s\n",
            "[CV] END C=0.5, class_weight={0: 1, 1: 2}, gamma=auto, kernel=linear; total time=   0.0s\n",
            "[CV] END C=0.5, class_weight={0: 1, 1: 2}, gamma=auto, kernel=linear; total time=   0.0s\n",
            "[CV] END C=0.5, class_weight={0: 1, 1: 2}, gamma=auto, kernel=linear; total time=   0.0s\n",
            "[CV] END C=0.5, class_weight={0: 1, 1: 2}, gamma=auto, kernel=poly; total time=   0.0s\n",
            "[CV] END C=0.5, class_weight={0: 1, 1: 2}, gamma=auto, kernel=poly; total time=   0.0s\n",
            "[CV] END C=0.5, class_weight={0: 1, 1: 2}, gamma=auto, kernel=poly; total time=   0.0s\n",
            "[CV] END C=0.5, class_weight={0: 1, 1: 2}, gamma=auto, kernel=poly; total time=   0.0s\n",
            "[CV] END C=0.5, class_weight={0: 1, 1: 2}, gamma=auto, kernel=poly; total time=   0.0s\n",
            "[CV] END C=0.5, class_weight={0: 1, 1: 2}, gamma=auto, kernel=rbf; total time=   0.0s\n",
            "[CV] END C=0.5, class_weight={0: 1, 1: 2}, gamma=auto, kernel=rbf; total time=   0.0s\n",
            "[CV] END C=0.5, class_weight={0: 1, 1: 2}, gamma=auto, kernel=rbf; total time=   0.0s\n",
            "[CV] END C=0.5, class_weight={0: 1, 1: 2}, gamma=auto, kernel=rbf; total time=   0.0s\n",
            "[CV] END C=0.5, class_weight={0: 1, 1: 2}, gamma=auto, kernel=rbf; total time=   0.1s\n",
            "[CV] END C=0.5, class_weight={0: 1, 1: 2}, gamma=auto, kernel=sigmoid; total time=   0.0s\n",
            "[CV] END C=0.5, class_weight={0: 1, 1: 2}, gamma=auto, kernel=sigmoid; total time=   0.0s\n",
            "[CV] END C=0.5, class_weight={0: 1, 1: 2}, gamma=auto, kernel=sigmoid; total time=   0.0s\n",
            "[CV] END C=0.5, class_weight={0: 1, 1: 2}, gamma=auto, kernel=sigmoid; total time=   0.0s\n",
            "[CV] END C=0.5, class_weight={0: 1, 1: 2}, gamma=auto, kernel=sigmoid; total time=   0.0s\n",
            "[CV] END C=0.5, class_weight={0: 1, 1: 10}, gamma=scale, kernel=linear; total time=   0.1s\n",
            "[CV] END C=0.5, class_weight={0: 1, 1: 10}, gamma=scale, kernel=linear; total time=   0.1s\n",
            "[CV] END C=0.5, class_weight={0: 1, 1: 10}, gamma=scale, kernel=linear; total time=   0.1s\n",
            "[CV] END C=0.5, class_weight={0: 1, 1: 10}, gamma=scale, kernel=linear; total time=   0.1s\n",
            "[CV] END C=0.5, class_weight={0: 1, 1: 10}, gamma=scale, kernel=linear; total time=   0.1s\n",
            "[CV] END C=0.5, class_weight={0: 1, 1: 10}, gamma=scale, kernel=poly; total time=   0.1s\n",
            "[CV] END C=0.5, class_weight={0: 1, 1: 10}, gamma=scale, kernel=poly; total time=   0.1s\n",
            "[CV] END C=0.5, class_weight={0: 1, 1: 10}, gamma=scale, kernel=poly; total time=   0.1s\n",
            "[CV] END C=0.5, class_weight={0: 1, 1: 10}, gamma=scale, kernel=poly; total time=   0.1s\n",
            "[CV] END C=0.5, class_weight={0: 1, 1: 10}, gamma=scale, kernel=poly; total time=   0.1s\n",
            "[CV] END C=0.5, class_weight={0: 1, 1: 10}, gamma=scale, kernel=rbf; total time=   0.1s\n",
            "[CV] END C=0.5, class_weight={0: 1, 1: 10}, gamma=scale, kernel=rbf; total time=   0.1s\n",
            "[CV] END C=0.5, class_weight={0: 1, 1: 10}, gamma=scale, kernel=rbf; total time=   0.1s\n",
            "[CV] END C=0.5, class_weight={0: 1, 1: 10}, gamma=scale, kernel=rbf; total time=   0.1s\n",
            "[CV] END C=0.5, class_weight={0: 1, 1: 10}, gamma=scale, kernel=rbf; total time=   0.1s\n",
            "[CV] END C=0.5, class_weight={0: 1, 1: 10}, gamma=scale, kernel=sigmoid; total time=   0.1s\n",
            "[CV] END C=0.5, class_weight={0: 1, 1: 10}, gamma=scale, kernel=sigmoid; total time=   0.1s\n",
            "[CV] END C=0.5, class_weight={0: 1, 1: 10}, gamma=scale, kernel=sigmoid; total time=   0.1s\n",
            "[CV] END C=0.5, class_weight={0: 1, 1: 10}, gamma=scale, kernel=sigmoid; total time=   0.1s\n",
            "[CV] END C=0.5, class_weight={0: 1, 1: 10}, gamma=scale, kernel=sigmoid; total time=   0.1s\n",
            "[CV] END C=0.5, class_weight={0: 1, 1: 10}, gamma=auto, kernel=linear; total time=   0.1s\n",
            "[CV] END C=0.5, class_weight={0: 1, 1: 10}, gamma=auto, kernel=linear; total time=   0.1s\n",
            "[CV] END C=0.5, class_weight={0: 1, 1: 10}, gamma=auto, kernel=linear; total time=   0.1s\n",
            "[CV] END C=0.5, class_weight={0: 1, 1: 10}, gamma=auto, kernel=linear; total time=   0.1s\n",
            "[CV] END C=0.5, class_weight={0: 1, 1: 10}, gamma=auto, kernel=linear; total time=   0.1s\n",
            "[CV] END C=0.5, class_weight={0: 1, 1: 10}, gamma=auto, kernel=poly; total time=   0.1s\n",
            "[CV] END C=0.5, class_weight={0: 1, 1: 10}, gamma=auto, kernel=poly; total time=   0.1s\n",
            "[CV] END C=0.5, class_weight={0: 1, 1: 10}, gamma=auto, kernel=poly; total time=   0.1s\n",
            "[CV] END C=0.5, class_weight={0: 1, 1: 10}, gamma=auto, kernel=poly; total time=   0.1s\n",
            "[CV] END C=0.5, class_weight={0: 1, 1: 10}, gamma=auto, kernel=poly; total time=   0.1s\n",
            "[CV] END C=0.5, class_weight={0: 1, 1: 10}, gamma=auto, kernel=rbf; total time=   0.1s\n",
            "[CV] END C=0.5, class_weight={0: 1, 1: 10}, gamma=auto, kernel=rbf; total time=   0.1s\n",
            "[CV] END C=0.5, class_weight={0: 1, 1: 10}, gamma=auto, kernel=rbf; total time=   0.1s\n",
            "[CV] END C=0.5, class_weight={0: 1, 1: 10}, gamma=auto, kernel=rbf; total time=   0.1s\n",
            "[CV] END C=0.5, class_weight={0: 1, 1: 10}, gamma=auto, kernel=rbf; total time=   0.1s\n",
            "[CV] END C=0.5, class_weight={0: 1, 1: 10}, gamma=auto, kernel=sigmoid; total time=   0.1s\n",
            "[CV] END C=0.5, class_weight={0: 1, 1: 10}, gamma=auto, kernel=sigmoid; total time=   0.1s\n",
            "[CV] END C=0.5, class_weight={0: 1, 1: 10}, gamma=auto, kernel=sigmoid; total time=   0.1s\n",
            "[CV] END C=0.5, class_weight={0: 1, 1: 10}, gamma=auto, kernel=sigmoid; total time=   0.1s\n",
            "[CV] END C=0.5, class_weight={0: 1, 1: 10}, gamma=auto, kernel=sigmoid; total time=   0.1s\n"
          ]
        },
        {
          "data": {
            "text/plain": [
              "GridSearchCV(estimator=SVC(),\n",
              "             param_grid={'C': [0.1, 0.01, 0.05, 0.5],\n",
              "                         'class_weight': ['balanced', {0: 1, 1: 2},\n",
              "                                          {0: 1, 1: 10}],\n",
              "                         'gamma': ['scale', 'auto'],\n",
              "                         'kernel': ['linear', 'poly', 'rbf', 'sigmoid']},\n",
              "             scoring='precision', verbose=2)"
            ]
          },
          "execution_count": 56,
          "metadata": {},
          "output_type": "execute_result"
        }
      ],
      "source": [
        "cv.fit(X_train_stack, y_train)"
      ]
    },
    {
      "cell_type": "code",
      "execution_count": 57,
      "metadata": {
        "colab": {
          "base_uri": "https://localhost:8080/"
        },
        "id": "zLxNwIl7IyRC",
        "outputId": "306abc53-e548-42d3-95e4-e0e147264f2b"
      },
      "outputs": [
        {
          "data": {
            "text/plain": [
              "{'C': 0.05, 'class_weight': {0: 1, 1: 2}, 'gamma': 'auto', 'kernel': 'poly'}"
            ]
          },
          "execution_count": 57,
          "metadata": {},
          "output_type": "execute_result"
        }
      ],
      "source": [
        "cv.best_params_"
      ]
    },
    {
      "cell_type": "code",
      "execution_count": 58,
      "metadata": {
        "colab": {
          "base_uri": "https://localhost:8080/"
        },
        "id": "k6KbDEXUIzm8",
        "outputId": "09f78221-faa5-43b3-b692-ca3d77e9ccec"
      },
      "outputs": [
        {
          "name": "stdout",
          "output_type": "stream",
          "text": [
            "Prec: 0.83, Recall: 0.22\n"
          ]
        }
      ],
      "source": [
        "predicted = cv.predict(X_test_stack)\n",
        "\n",
        "prec = precision_score(y_test, predicted)\n",
        "recall = recall_score(y_test, predicted)\n",
        "    \n",
        "print(\"Prec: {:.2F}, Recall: {:.2F}\".format(\n",
        "    prec, recall\n",
        "))"
      ]
    }
  ],
  "metadata": {
    "colab": {
      "provenance": []
    },
    "kernelspec": {
      "display_name": "Python 3.10.7 64-bit",
      "language": "python",
      "name": "python3"
    },
    "language_info": {
      "name": "python",
      "version": "3.10.7"
    },
    "vscode": {
      "interpreter": {
        "hash": "a9cff5a362bc38ef45d817ae74b1af54d6a076e3d773891282bce078b815ba34"
      }
    }
  },
  "nbformat": 4,
  "nbformat_minor": 0
}
